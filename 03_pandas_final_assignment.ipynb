{
  "nbformat": 4,
  "nbformat_minor": 5,
  "metadata": {
    "kernelspec": {
      "display_name": "Python 3",
      "language": "python",
      "name": "python3"
    },
    "language_info": {
      "codemirror_mode": {
        "name": "ipython",
        "version": 3
      },
      "file_extension": ".py",
      "mimetype": "text/x-python",
      "name": "python",
      "nbconvert_exporter": "python",
      "pygments_lexer": "ipython3",
      "version": "3.8.8"
    },
    "colab": {
      "name": "03-pandas-final-assignment.ipynb\"",
      "provenance": [],
      "collapsed_sections": [],
      "include_colab_link": true
    }
  },
  "cells": [
    {
      "cell_type": "markdown",
      "metadata": {
        "id": "view-in-github",
        "colab_type": "text"
      },
      "source": [
        "<a href=\"https://colab.research.google.com/github/Dilshodbek23/Data-Science-and-Artificial-Intelligence/blob/main/03_pandas_final_assignment.ipynb\" target=\"_parent\"><img src=\"https://colab.research.google.com/assets/colab-badge.svg\" alt=\"Open In Colab\"/></a>"
      ]
    },
    {
      "cell_type": "markdown",
      "metadata": {
        "id": "93434341-e682-45cf-bb9f-6ef062b4471f"
      },
      "source": [
        "![Imgur](https://i.imgur.com/5pXzCIu.png)\n",
        "\n",
        "# DATA SCIENCE AND ARTIFICIAL INTELLIGENCE PRACTICUM\n",
        "\n",
        "## Data analysis. Pandas Library.\n",
        "\n",
        "### PANDAS. final-assignment. **part 1**"
      ],
      "id": "93434341-e682-45cf-bb9f-6ef062b4471f"
    },
    {
      "cell_type": "code",
      "metadata": {
        "id": "76ca27d8-ac49-45aa-9c42-14709d502433"
      },
      "source": [
        "import pandas as pd\n",
        "import numpy as np"
      ],
      "id": "76ca27d8-ac49-45aa-9c42-14709d502433",
      "execution_count": 1,
      "outputs": []
    },
    {
      "cell_type": "code",
      "metadata": {
        "id": "8f943f58-4ae4-411a-907c-753e8afac44b"
      },
      "source": [
        "df = pd.read_csv(\"https://raw.githubusercontent.com/anvarnarz/praktikum_datasets/main/world_population.csv\", index_col=0)"
      ],
      "id": "8f943f58-4ae4-411a-907c-753e8afac44b",
      "execution_count": 2,
      "outputs": []
    },
    {
      "cell_type": "markdown",
      "metadata": {
        "id": "55ad9f8e"
      },
      "source": [
        "### TASK 1. Rename the DF columns above to the following values and subtract 3 countries from the top of the DF.\n",
        "`['country', 'density_km', 'density_milele', 'populationation', 'area"
      ],
      "id": "55ad9f8e"
    },
    {
      "cell_type": "code",
      "metadata": {
        "id": "IMjytTZ0t40I",
        "outputId": "3cc8ae75-29d3-4fe4-b38e-c529bb3f11d0",
        "colab": {
          "base_uri": "https://localhost:8080/",
          "height": 174
        }
      },
      "source": [
        "# Write your answer here=['country','density_km','density_mile','population','area']\n",
        "df.head(3)"
      ],
      "id": "IMjytTZ0t40I",
      "execution_count": 4,
      "outputs": [
        {
          "output_type": "execute_result",
          "data": {
            "text/html": [
              "<div>\n",
              "<style scoped>\n",
              "    .dataframe tbody tr th:only-of-type {\n",
              "        vertical-align: middle;\n",
              "    }\n",
              "\n",
              "    .dataframe tbody tr th {\n",
              "        vertical-align: top;\n",
              "    }\n",
              "\n",
              "    .dataframe thead th {\n",
              "        text-align: right;\n",
              "    }\n",
              "</style>\n",
              "<table border=\"1\" class=\"dataframe\">\n",
              "  <thead>\n",
              "    <tr style=\"text-align: right;\">\n",
              "      <th></th>\n",
              "      <th>country</th>\n",
              "      <th>density_km</th>\n",
              "      <th>density_mile</th>\n",
              "      <th>population</th>\n",
              "      <th>area</th>\n",
              "    </tr>\n",
              "    <tr>\n",
              "      <th>rank</th>\n",
              "      <th></th>\n",
              "      <th></th>\n",
              "      <th></th>\n",
              "      <th></th>\n",
              "      <th></th>\n",
              "    </tr>\n",
              "  </thead>\n",
              "  <tbody>\n",
              "    <tr>\n",
              "      <th>1</th>\n",
              "      <td>Macau</td>\n",
              "      <td>21946.4667</td>\n",
              "      <td>56841.3487</td>\n",
              "      <td>658.394</td>\n",
              "      <td>30</td>\n",
              "    </tr>\n",
              "    <tr>\n",
              "      <th>2</th>\n",
              "      <td>Monaco</td>\n",
              "      <td>19755.5000</td>\n",
              "      <td>51166.7450</td>\n",
              "      <td>39.511</td>\n",
              "      <td>2</td>\n",
              "    </tr>\n",
              "    <tr>\n",
              "      <th>3</th>\n",
              "      <td>Singapore</td>\n",
              "      <td>8305.1915</td>\n",
              "      <td>21510.4461</td>\n",
              "      <td>5896.686</td>\n",
              "      <td>710</td>\n",
              "    </tr>\n",
              "  </tbody>\n",
              "</table>\n",
              "</div>"
            ],
            "text/plain": [
              "        country  density_km  density_mile  population  area\n",
              "rank                                                       \n",
              "1         Macau  21946.4667    56841.3487     658.394    30\n",
              "2        Monaco  19755.5000    51166.7450      39.511     2\n",
              "3     Singapore   8305.1915    21510.4461    5896.686   710"
            ]
          },
          "metadata": {},
          "execution_count": 4
        }
      ]
    },
    {
      "cell_type": "code",
      "metadata": {
        "code_folding": [
          0
        ],
        "colab": {
          "base_uri": "https://localhost:8080/",
          "height": 174
        },
        "id": "0b40c486",
        "outputId": "5905fdee-8db3-43b2-d270-dbb96fad2f98"
      },
      "source": [
        "#@title The correct answer\n",
        "df.columns = ['country','density_km','density_mile','population','area']\n",
        "df.head(3)"
      ],
      "id": "0b40c486",
      "execution_count": 5,
      "outputs": [
        {
          "output_type": "execute_result",
          "data": {
            "text/html": [
              "<div>\n",
              "<style scoped>\n",
              "    .dataframe tbody tr th:only-of-type {\n",
              "        vertical-align: middle;\n",
              "    }\n",
              "\n",
              "    .dataframe tbody tr th {\n",
              "        vertical-align: top;\n",
              "    }\n",
              "\n",
              "    .dataframe thead th {\n",
              "        text-align: right;\n",
              "    }\n",
              "</style>\n",
              "<table border=\"1\" class=\"dataframe\">\n",
              "  <thead>\n",
              "    <tr style=\"text-align: right;\">\n",
              "      <th></th>\n",
              "      <th>country</th>\n",
              "      <th>density_km</th>\n",
              "      <th>density_mile</th>\n",
              "      <th>population</th>\n",
              "      <th>area</th>\n",
              "    </tr>\n",
              "    <tr>\n",
              "      <th>rank</th>\n",
              "      <th></th>\n",
              "      <th></th>\n",
              "      <th></th>\n",
              "      <th></th>\n",
              "      <th></th>\n",
              "    </tr>\n",
              "  </thead>\n",
              "  <tbody>\n",
              "    <tr>\n",
              "      <th>1</th>\n",
              "      <td>Macau</td>\n",
              "      <td>21946.4667</td>\n",
              "      <td>56841.3487</td>\n",
              "      <td>658.394</td>\n",
              "      <td>30</td>\n",
              "    </tr>\n",
              "    <tr>\n",
              "      <th>2</th>\n",
              "      <td>Monaco</td>\n",
              "      <td>19755.5000</td>\n",
              "      <td>51166.7450</td>\n",
              "      <td>39.511</td>\n",
              "      <td>2</td>\n",
              "    </tr>\n",
              "    <tr>\n",
              "      <th>3</th>\n",
              "      <td>Singapore</td>\n",
              "      <td>8305.1915</td>\n",
              "      <td>21510.4461</td>\n",
              "      <td>5896.686</td>\n",
              "      <td>710</td>\n",
              "    </tr>\n",
              "  </tbody>\n",
              "</table>\n",
              "</div>"
            ],
            "text/plain": [
              "        country  density_km  density_mile  population  area\n",
              "rank                                                       \n",
              "1         Macau  21946.4667    56841.3487     658.394    30\n",
              "2        Monaco  19755.5000    51166.7450      39.511     2\n",
              "3     Singapore   8305.1915    21510.4461    5896.686   710"
            ]
          },
          "metadata": {},
          "execution_count": 5
        }
      ]
    },
    {
      "cell_type": "markdown",
      "metadata": {
        "id": "6ccd740a-a190-427e-a8ad-963e161cd7b1"
      },
      "source": [
        "## The table above shows the ranking of the world's countries in terms of population density. \n",
        "The DF index is the country's population density rating (the most densely populated countries are above).\n",
        "\n",
        "**Columns:**\n",
        "\n",
        "`country` - country name\n",
        "\n",
        "`density_km` - per 1 sq. km. population\n",
        "\n",
        "`density_mile` - population per 1 sq. mile (mile - US unit of distance)\n",
        "\n",
        "`population` - Population by 2021 (thousand)\n",
        "\n",
        "`area` - country area (sq.km)"
      ],
      "id": "6ccd740a-a190-427e-a8ad-963e161cd7b1"
    },
    {
      "cell_type": "markdown",
      "metadata": {
        "id": "whG3yzyntr-g"
      },
      "source": [
        "### TASK 2. Show 10 rows from the end of the DF."
      ],
      "id": "whG3yzyntr-g"
    },
    {
      "cell_type": "code",
      "source": [
        "df.head()"
      ],
      "metadata": {
        "colab": {
          "base_uri": "https://localhost:8080/",
          "height": 238
        },
        "id": "JayA0cN_5pIk",
        "outputId": "b34a5b98-4527-49fa-c015-c250df69bcb0"
      },
      "id": "JayA0cN_5pIk",
      "execution_count": 6,
      "outputs": [
        {
          "output_type": "execute_result",
          "data": {
            "text/html": [
              "<div>\n",
              "<style scoped>\n",
              "    .dataframe tbody tr th:only-of-type {\n",
              "        vertical-align: middle;\n",
              "    }\n",
              "\n",
              "    .dataframe tbody tr th {\n",
              "        vertical-align: top;\n",
              "    }\n",
              "\n",
              "    .dataframe thead th {\n",
              "        text-align: right;\n",
              "    }\n",
              "</style>\n",
              "<table border=\"1\" class=\"dataframe\">\n",
              "  <thead>\n",
              "    <tr style=\"text-align: right;\">\n",
              "      <th></th>\n",
              "      <th>country</th>\n",
              "      <th>density_km</th>\n",
              "      <th>density_mile</th>\n",
              "      <th>population</th>\n",
              "      <th>area</th>\n",
              "    </tr>\n",
              "    <tr>\n",
              "      <th>rank</th>\n",
              "      <th></th>\n",
              "      <th></th>\n",
              "      <th></th>\n",
              "      <th></th>\n",
              "      <th></th>\n",
              "    </tr>\n",
              "  </thead>\n",
              "  <tbody>\n",
              "    <tr>\n",
              "      <th>1</th>\n",
              "      <td>Macau</td>\n",
              "      <td>21946.4667</td>\n",
              "      <td>56841.3487</td>\n",
              "      <td>658.394</td>\n",
              "      <td>30</td>\n",
              "    </tr>\n",
              "    <tr>\n",
              "      <th>2</th>\n",
              "      <td>Monaco</td>\n",
              "      <td>19755.5000</td>\n",
              "      <td>51166.7450</td>\n",
              "      <td>39.511</td>\n",
              "      <td>2</td>\n",
              "    </tr>\n",
              "    <tr>\n",
              "      <th>3</th>\n",
              "      <td>Singapore</td>\n",
              "      <td>8305.1915</td>\n",
              "      <td>21510.4461</td>\n",
              "      <td>5896.686</td>\n",
              "      <td>710</td>\n",
              "    </tr>\n",
              "    <tr>\n",
              "      <th>4</th>\n",
              "      <td>Hong Kong</td>\n",
              "      <td>6841.3134</td>\n",
              "      <td>17719.0017</td>\n",
              "      <td>7552.810</td>\n",
              "      <td>1104</td>\n",
              "    </tr>\n",
              "    <tr>\n",
              "      <th>5</th>\n",
              "      <td>Gibraltar</td>\n",
              "      <td>5616.3333</td>\n",
              "      <td>14546.3033</td>\n",
              "      <td>33.698</td>\n",
              "      <td>6</td>\n",
              "    </tr>\n",
              "  </tbody>\n",
              "</table>\n",
              "</div>"
            ],
            "text/plain": [
              "        country  density_km  density_mile  population  area\n",
              "rank                                                       \n",
              "1         Macau  21946.4667    56841.3487     658.394    30\n",
              "2        Monaco  19755.5000    51166.7450      39.511     2\n",
              "3     Singapore   8305.1915    21510.4461    5896.686   710\n",
              "4     Hong Kong   6841.3134    17719.0017    7552.810  1104\n",
              "5     Gibraltar   5616.3333    14546.3033      33.698     6"
            ]
          },
          "metadata": {},
          "execution_count": 6
        }
      ]
    },
    {
      "cell_type": "code",
      "metadata": {
        "id": "2203a21e-dc12-48b5-8d2e-737c42f72669",
        "outputId": "ff8bfaea-9047-4e69-df27-5729aee9df3a",
        "colab": {
          "base_uri": "https://localhost:8080/",
          "height": 394
        }
      },
      "source": [
        "# Write your answer here\n",
        "df.tail(10)"
      ],
      "id": "2203a21e-dc12-48b5-8d2e-737c42f72669",
      "execution_count": 7,
      "outputs": [
        {
          "output_type": "execute_result",
          "data": {
            "text/html": [
              "<div>\n",
              "<style scoped>\n",
              "    .dataframe tbody tr th:only-of-type {\n",
              "        vertical-align: middle;\n",
              "    }\n",
              "\n",
              "    .dataframe tbody tr th {\n",
              "        vertical-align: top;\n",
              "    }\n",
              "\n",
              "    .dataframe thead th {\n",
              "        text-align: right;\n",
              "    }\n",
              "</style>\n",
              "<table border=\"1\" class=\"dataframe\">\n",
              "  <thead>\n",
              "    <tr style=\"text-align: right;\">\n",
              "      <th></th>\n",
              "      <th>country</th>\n",
              "      <th>density_km</th>\n",
              "      <th>density_mile</th>\n",
              "      <th>population</th>\n",
              "      <th>area</th>\n",
              "    </tr>\n",
              "    <tr>\n",
              "      <th>rank</th>\n",
              "      <th></th>\n",
              "      <th></th>\n",
              "      <th></th>\n",
              "      <th></th>\n",
              "      <th></th>\n",
              "    </tr>\n",
              "  </thead>\n",
              "  <tbody>\n",
              "    <tr>\n",
              "      <th>223</th>\n",
              "      <td>Guyana</td>\n",
              "      <td>3.6765</td>\n",
              "      <td>9.5220</td>\n",
              "      <td>790.326</td>\n",
              "      <td>214969</td>\n",
              "    </tr>\n",
              "    <tr>\n",
              "      <th>224</th>\n",
              "      <td>French Guiana</td>\n",
              "      <td>3.6685</td>\n",
              "      <td>9.5015</td>\n",
              "      <td>306.448</td>\n",
              "      <td>83534</td>\n",
              "    </tr>\n",
              "    <tr>\n",
              "      <th>225</th>\n",
              "      <td>Suriname</td>\n",
              "      <td>3.6125</td>\n",
              "      <td>9.3564</td>\n",
              "      <td>591.800</td>\n",
              "      <td>163820</td>\n",
              "    </tr>\n",
              "    <tr>\n",
              "      <th>226</th>\n",
              "      <td>Australia</td>\n",
              "      <td>3.3526</td>\n",
              "      <td>8.6832</td>\n",
              "      <td>25788.215</td>\n",
              "      <td>7692024</td>\n",
              "    </tr>\n",
              "    <tr>\n",
              "      <th>227</th>\n",
              "      <td>Iceland</td>\n",
              "      <td>3.3335</td>\n",
              "      <td>8.6338</td>\n",
              "      <td>343.353</td>\n",
              "      <td>103000</td>\n",
              "    </tr>\n",
              "    <tr>\n",
              "      <th>228</th>\n",
              "      <td>Namibia</td>\n",
              "      <td>3.1338</td>\n",
              "      <td>8.1166</td>\n",
              "      <td>2587.344</td>\n",
              "      <td>825615</td>\n",
              "    </tr>\n",
              "    <tr>\n",
              "      <th>229</th>\n",
              "      <td>Western Sahara</td>\n",
              "      <td>2.3003</td>\n",
              "      <td>5.9577</td>\n",
              "      <td>611.875</td>\n",
              "      <td>266000</td>\n",
              "    </tr>\n",
              "    <tr>\n",
              "      <th>230</th>\n",
              "      <td>Mongolia</td>\n",
              "      <td>2.1286</td>\n",
              "      <td>5.5129</td>\n",
              "      <td>3329.289</td>\n",
              "      <td>1564110</td>\n",
              "    </tr>\n",
              "    <tr>\n",
              "      <th>231</th>\n",
              "      <td>Falkland Islands</td>\n",
              "      <td>0.2902</td>\n",
              "      <td>0.7517</td>\n",
              "      <td>3.533</td>\n",
              "      <td>12173</td>\n",
              "    </tr>\n",
              "    <tr>\n",
              "      <th>232</th>\n",
              "      <td>Greenland</td>\n",
              "      <td>0.0263</td>\n",
              "      <td>0.0680</td>\n",
              "      <td>56.877</td>\n",
              "      <td>2166086</td>\n",
              "    </tr>\n",
              "  </tbody>\n",
              "</table>\n",
              "</div>"
            ],
            "text/plain": [
              "               country  density_km  density_mile  population     area\n",
              "rank                                                                 \n",
              "223             Guyana      3.6765        9.5220     790.326   214969\n",
              "224      French Guiana      3.6685        9.5015     306.448    83534\n",
              "225           Suriname      3.6125        9.3564     591.800   163820\n",
              "226          Australia      3.3526        8.6832   25788.215  7692024\n",
              "227            Iceland      3.3335        8.6338     343.353   103000\n",
              "228            Namibia      3.1338        8.1166    2587.344   825615\n",
              "229     Western Sahara      2.3003        5.9577     611.875   266000\n",
              "230           Mongolia      2.1286        5.5129    3329.289  1564110\n",
              "231   Falkland Islands      0.2902        0.7517       3.533    12173\n",
              "232          Greenland      0.0263        0.0680      56.877  2166086"
            ]
          },
          "metadata": {},
          "execution_count": 7
        }
      ]
    },
    {
      "cell_type": "markdown",
      "metadata": {
        "id": "j7eE78e0-0QR"
      },
      "source": [
        "### TASK 3. Subtract the countries in indices 10, 20, 100, 200 from the DF in a separate DF view."
      ],
      "id": "j7eE78e0-0QR"
    },
    {
      "cell_type": "code",
      "metadata": {
        "id": "e6oOFKypt7W-",
        "outputId": "d2b0cd81-2fac-4cbf-ea41-66108b4b5c19",
        "colab": {
          "base_uri": "https://localhost:8080/",
          "height": 206
        }
      },
      "source": [
        "# Write your answer here\n",
        "df.loc[[10,20,100,200]]"
      ],
      "id": "e6oOFKypt7W-",
      "execution_count": 8,
      "outputs": [
        {
          "output_type": "execute_result",
          "data": {
            "text/html": [
              "<div>\n",
              "<style scoped>\n",
              "    .dataframe tbody tr th:only-of-type {\n",
              "        vertical-align: middle;\n",
              "    }\n",
              "\n",
              "    .dataframe tbody tr th {\n",
              "        vertical-align: top;\n",
              "    }\n",
              "\n",
              "    .dataframe thead th {\n",
              "        text-align: right;\n",
              "    }\n",
              "</style>\n",
              "<table border=\"1\" class=\"dataframe\">\n",
              "  <thead>\n",
              "    <tr style=\"text-align: right;\">\n",
              "      <th></th>\n",
              "      <th>country</th>\n",
              "      <th>density_km</th>\n",
              "      <th>density_mile</th>\n",
              "      <th>population</th>\n",
              "      <th>area</th>\n",
              "    </tr>\n",
              "    <tr>\n",
              "      <th>rank</th>\n",
              "      <th></th>\n",
              "      <th></th>\n",
              "      <th></th>\n",
              "      <th></th>\n",
              "      <th></th>\n",
              "    </tr>\n",
              "  </thead>\n",
              "  <tbody>\n",
              "    <tr>\n",
              "      <th>10</th>\n",
              "      <td>Bermuda</td>\n",
              "      <td>1149.8148</td>\n",
              "      <td>2978.0204</td>\n",
              "      <td>62.090</td>\n",
              "      <td>54</td>\n",
              "    </tr>\n",
              "    <tr>\n",
              "      <th>20</th>\n",
              "      <td>Aruba</td>\n",
              "      <td>595.5778</td>\n",
              "      <td>1542.5464</td>\n",
              "      <td>107.204</td>\n",
              "      <td>180</td>\n",
              "    </tr>\n",
              "    <tr>\n",
              "      <th>100</th>\n",
              "      <td>Slovakia</td>\n",
              "      <td>111.3592</td>\n",
              "      <td>288.4203</td>\n",
              "      <td>5460.721</td>\n",
              "      <td>49037</td>\n",
              "    </tr>\n",
              "    <tr>\n",
              "      <th>200</th>\n",
              "      <td>New Zealand</td>\n",
              "      <td>17.9713</td>\n",
              "      <td>46.5457</td>\n",
              "      <td>4860.643</td>\n",
              "      <td>270467</td>\n",
              "    </tr>\n",
              "  </tbody>\n",
              "</table>\n",
              "</div>"
            ],
            "text/plain": [
              "          country  density_km  density_mile  population    area\n",
              "rank                                                           \n",
              "10        Bermuda   1149.8148     2978.0204      62.090      54\n",
              "20          Aruba    595.5778     1542.5464     107.204     180\n",
              "100      Slovakia    111.3592      288.4203    5460.721   49037\n",
              "200   New Zealand     17.9713       46.5457    4860.643  270467"
            ]
          },
          "metadata": {},
          "execution_count": 8
        }
      ]
    },
    {
      "cell_type": "markdown",
      "metadata": {
        "id": "-4lcfYxJB6iM"
      },
      "source": [
        "### TASK 4. Check whether there are Uzbekistan, Hong Kong and Antartica among the countries"
      ],
      "id": "-4lcfYxJB6iM"
    },
    {
      "cell_type": "code",
      "metadata": {
        "id": "dHOCUSlx_r1w",
        "outputId": "87653a00-17db-4641-d406-ba914371a88b",
        "colab": {
          "base_uri": "https://localhost:8080/",
          "height": 112
        }
      },
      "source": [
        "# Write your answer here\n",
        "obj=['Uzbekistan','Hong-Kong','Antartica']\n",
        "m=df['country'].isin(obj)\n",
        "df[m]"
      ],
      "id": "dHOCUSlx_r1w",
      "execution_count": 9,
      "outputs": [
        {
          "output_type": "execute_result",
          "data": {
            "text/html": [
              "<div>\n",
              "<style scoped>\n",
              "    .dataframe tbody tr th:only-of-type {\n",
              "        vertical-align: middle;\n",
              "    }\n",
              "\n",
              "    .dataframe tbody tr th {\n",
              "        vertical-align: top;\n",
              "    }\n",
              "\n",
              "    .dataframe thead th {\n",
              "        text-align: right;\n",
              "    }\n",
              "</style>\n",
              "<table border=\"1\" class=\"dataframe\">\n",
              "  <thead>\n",
              "    <tr style=\"text-align: right;\">\n",
              "      <th></th>\n",
              "      <th>country</th>\n",
              "      <th>density_km</th>\n",
              "      <th>density_mile</th>\n",
              "      <th>population</th>\n",
              "      <th>area</th>\n",
              "    </tr>\n",
              "    <tr>\n",
              "      <th>rank</th>\n",
              "      <th></th>\n",
              "      <th></th>\n",
              "      <th></th>\n",
              "      <th></th>\n",
              "      <th></th>\n",
              "    </tr>\n",
              "  </thead>\n",
              "  <tbody>\n",
              "    <tr>\n",
              "      <th>133</th>\n",
              "      <td>Uzbekistan</td>\n",
              "      <td>75.8511</td>\n",
              "      <td>196.4542</td>\n",
              "      <td>33935.763</td>\n",
              "      <td>447400</td>\n",
              "    </tr>\n",
              "  </tbody>\n",
              "</table>\n",
              "</div>"
            ],
            "text/plain": [
              "         country  density_km  density_mile  population    area\n",
              "rank                                                          \n",
              "133   Uzbekistan     75.8511      196.4542   33935.763  447400"
            ]
          },
          "metadata": {},
          "execution_count": 9
        }
      ]
    },
    {
      "cell_type": "code",
      "source": [
        "df.loc[df['country'] == 'Antartica']"
      ],
      "metadata": {
        "id": "RDXj-3CTSTol",
        "outputId": "5edf60a2-263c-4012-ef1c-d2362a8c72ed",
        "colab": {
          "base_uri": "https://localhost:8080/",
          "height": 81
        }
      },
      "id": "RDXj-3CTSTol",
      "execution_count": 10,
      "outputs": [
        {
          "output_type": "execute_result",
          "data": {
            "text/html": [
              "<div>\n",
              "<style scoped>\n",
              "    .dataframe tbody tr th:only-of-type {\n",
              "        vertical-align: middle;\n",
              "    }\n",
              "\n",
              "    .dataframe tbody tr th {\n",
              "        vertical-align: top;\n",
              "    }\n",
              "\n",
              "    .dataframe thead th {\n",
              "        text-align: right;\n",
              "    }\n",
              "</style>\n",
              "<table border=\"1\" class=\"dataframe\">\n",
              "  <thead>\n",
              "    <tr style=\"text-align: right;\">\n",
              "      <th></th>\n",
              "      <th>country</th>\n",
              "      <th>density_km</th>\n",
              "      <th>density_mile</th>\n",
              "      <th>population</th>\n",
              "      <th>area</th>\n",
              "    </tr>\n",
              "    <tr>\n",
              "      <th>rank</th>\n",
              "      <th></th>\n",
              "      <th></th>\n",
              "      <th></th>\n",
              "      <th></th>\n",
              "      <th></th>\n",
              "    </tr>\n",
              "  </thead>\n",
              "  <tbody>\n",
              "  </tbody>\n",
              "</table>\n",
              "</div>"
            ],
            "text/plain": [
              "Empty DataFrame\n",
              "Columns: [country, density_km, density_mile, population, area]\n",
              "Index: []"
            ]
          },
          "metadata": {},
          "execution_count": 10
        }
      ]
    },
    {
      "cell_type": "markdown",
      "metadata": {
        "id": "3AkPYoQbGavc"
      },
      "source": [
        "### TASK 5.\n",
        "#### 5.1 Mark the DF column named `country` as its index. \n",
        "#### 5.2 Drop the `country` column.\n",
        "#### 5.3 Sort the DF by country name"
      ],
      "id": "3AkPYoQbGavc"
    },
    {
      "cell_type": "code",
      "metadata": {
        "id": "pqgh3X3UGthA",
        "outputId": "6a847ed3-092d-4f5b-e1e7-00f0bfe89b1d",
        "colab": {
          "base_uri": "https://localhost:8080/",
          "height": 455
        }
      },
      "source": [
        "# Write your answer here\n",
        "ind=df.set_index('country')\n",
        "p=ind.sort_index()\n",
        "p"
      ],
      "id": "pqgh3X3UGthA",
      "execution_count": 11,
      "outputs": [
        {
          "output_type": "execute_result",
          "data": {
            "text/html": [
              "<div>\n",
              "<style scoped>\n",
              "    .dataframe tbody tr th:only-of-type {\n",
              "        vertical-align: middle;\n",
              "    }\n",
              "\n",
              "    .dataframe tbody tr th {\n",
              "        vertical-align: top;\n",
              "    }\n",
              "\n",
              "    .dataframe thead th {\n",
              "        text-align: right;\n",
              "    }\n",
              "</style>\n",
              "<table border=\"1\" class=\"dataframe\">\n",
              "  <thead>\n",
              "    <tr style=\"text-align: right;\">\n",
              "      <th></th>\n",
              "      <th>density_km</th>\n",
              "      <th>density_mile</th>\n",
              "      <th>population</th>\n",
              "      <th>area</th>\n",
              "    </tr>\n",
              "    <tr>\n",
              "      <th>country</th>\n",
              "      <th></th>\n",
              "      <th></th>\n",
              "      <th></th>\n",
              "      <th></th>\n",
              "    </tr>\n",
              "  </thead>\n",
              "  <tbody>\n",
              "    <tr>\n",
              "      <th>Afghanistan</th>\n",
              "      <td>61.0757</td>\n",
              "      <td>158.1862</td>\n",
              "      <td>39835.428</td>\n",
              "      <td>652230</td>\n",
              "    </tr>\n",
              "    <tr>\n",
              "      <th>Albania</th>\n",
              "      <td>99.9351</td>\n",
              "      <td>258.8318</td>\n",
              "      <td>2872.933</td>\n",
              "      <td>28748</td>\n",
              "    </tr>\n",
              "    <tr>\n",
              "      <th>Algeria</th>\n",
              "      <td>18.7328</td>\n",
              "      <td>48.5179</td>\n",
              "      <td>44616.624</td>\n",
              "      <td>2381741</td>\n",
              "    </tr>\n",
              "    <tr>\n",
              "      <th>American Samoa</th>\n",
              "      <td>276.8844</td>\n",
              "      <td>717.1307</td>\n",
              "      <td>55.100</td>\n",
              "      <td>199</td>\n",
              "    </tr>\n",
              "    <tr>\n",
              "      <th>Andorra</th>\n",
              "      <td>165.2885</td>\n",
              "      <td>428.0971</td>\n",
              "      <td>77.355</td>\n",
              "      <td>468</td>\n",
              "    </tr>\n",
              "    <tr>\n",
              "      <th>...</th>\n",
              "      <td>...</td>\n",
              "      <td>...</td>\n",
              "      <td>...</td>\n",
              "      <td>...</td>\n",
              "    </tr>\n",
              "    <tr>\n",
              "      <th>Wallis and Futuna</th>\n",
              "      <td>78.1268</td>\n",
              "      <td>202.3483</td>\n",
              "      <td>11.094</td>\n",
              "      <td>142</td>\n",
              "    </tr>\n",
              "    <tr>\n",
              "      <th>Western Sahara</th>\n",
              "      <td>2.3003</td>\n",
              "      <td>5.9577</td>\n",
              "      <td>611.875</td>\n",
              "      <td>266000</td>\n",
              "    </tr>\n",
              "    <tr>\n",
              "      <th>Yemen</th>\n",
              "      <td>57.7509</td>\n",
              "      <td>149.5749</td>\n",
              "      <td>30490.640</td>\n",
              "      <td>527968</td>\n",
              "    </tr>\n",
              "    <tr>\n",
              "      <th>Zambia</th>\n",
              "      <td>25.1400</td>\n",
              "      <td>65.1125</td>\n",
              "      <td>18920.651</td>\n",
              "      <td>752612</td>\n",
              "    </tr>\n",
              "    <tr>\n",
              "      <th>Zimbabwe</th>\n",
              "      <td>38.6229</td>\n",
              "      <td>100.0333</td>\n",
              "      <td>15092.171</td>\n",
              "      <td>390757</td>\n",
              "    </tr>\n",
              "  </tbody>\n",
              "</table>\n",
              "<p>232 rows × 4 columns</p>\n",
              "</div>"
            ],
            "text/plain": [
              "                   density_km  density_mile  population     area\n",
              "country                                                         \n",
              "Afghanistan           61.0757      158.1862   39835.428   652230\n",
              "Albania               99.9351      258.8318    2872.933    28748\n",
              "Algeria               18.7328       48.5179   44616.624  2381741\n",
              "American Samoa       276.8844      717.1307      55.100      199\n",
              "Andorra              165.2885      428.0971      77.355      468\n",
              "...                       ...           ...         ...      ...\n",
              "Wallis and Futuna     78.1268      202.3483      11.094      142\n",
              "Western Sahara         2.3003        5.9577     611.875   266000\n",
              "Yemen                 57.7509      149.5749   30490.640   527968\n",
              "Zambia                25.1400       65.1125   18920.651   752612\n",
              "Zimbabwe              38.6229      100.0333   15092.171   390757\n",
              "\n",
              "[232 rows x 4 columns]"
            ]
          },
          "metadata": {},
          "execution_count": 11
        }
      ]
    },
    {
      "cell_type": "code",
      "metadata": {
        "id": "PVYvoGlOGvAS",
        "cellView": "form"
      },
      "source": [
        "#@title Expected result\n"
      ],
      "id": "PVYvoGlOGvAS",
      "execution_count": 14,
      "outputs": []
    },
    {
      "cell_type": "code",
      "source": [
        "ind"
      ],
      "metadata": {
        "id": "LNzPq523zGxr",
        "outputId": "be78720d-fefd-45cc-93c6-d752045e83ce",
        "colab": {
          "base_uri": "https://localhost:8080/",
          "height": 455
        }
      },
      "id": "LNzPq523zGxr",
      "execution_count": 15,
      "outputs": [
        {
          "output_type": "execute_result",
          "data": {
            "text/html": [
              "<div>\n",
              "<style scoped>\n",
              "    .dataframe tbody tr th:only-of-type {\n",
              "        vertical-align: middle;\n",
              "    }\n",
              "\n",
              "    .dataframe tbody tr th {\n",
              "        vertical-align: top;\n",
              "    }\n",
              "\n",
              "    .dataframe thead th {\n",
              "        text-align: right;\n",
              "    }\n",
              "</style>\n",
              "<table border=\"1\" class=\"dataframe\">\n",
              "  <thead>\n",
              "    <tr style=\"text-align: right;\">\n",
              "      <th></th>\n",
              "      <th>density_km</th>\n",
              "      <th>density_mile</th>\n",
              "      <th>population</th>\n",
              "      <th>area</th>\n",
              "    </tr>\n",
              "    <tr>\n",
              "      <th>country</th>\n",
              "      <th></th>\n",
              "      <th></th>\n",
              "      <th></th>\n",
              "      <th></th>\n",
              "    </tr>\n",
              "  </thead>\n",
              "  <tbody>\n",
              "    <tr>\n",
              "      <th>Macau</th>\n",
              "      <td>21946.4667</td>\n",
              "      <td>56841.3487</td>\n",
              "      <td>658.394</td>\n",
              "      <td>30</td>\n",
              "    </tr>\n",
              "    <tr>\n",
              "      <th>Monaco</th>\n",
              "      <td>19755.5000</td>\n",
              "      <td>51166.7450</td>\n",
              "      <td>39.511</td>\n",
              "      <td>2</td>\n",
              "    </tr>\n",
              "    <tr>\n",
              "      <th>Singapore</th>\n",
              "      <td>8305.1915</td>\n",
              "      <td>21510.4461</td>\n",
              "      <td>5896.686</td>\n",
              "      <td>710</td>\n",
              "    </tr>\n",
              "    <tr>\n",
              "      <th>Hong Kong</th>\n",
              "      <td>6841.3134</td>\n",
              "      <td>17719.0017</td>\n",
              "      <td>7552.810</td>\n",
              "      <td>1104</td>\n",
              "    </tr>\n",
              "    <tr>\n",
              "      <th>Gibraltar</th>\n",
              "      <td>5616.3333</td>\n",
              "      <td>14546.3033</td>\n",
              "      <td>33.698</td>\n",
              "      <td>6</td>\n",
              "    </tr>\n",
              "    <tr>\n",
              "      <th>...</th>\n",
              "      <td>...</td>\n",
              "      <td>...</td>\n",
              "      <td>...</td>\n",
              "      <td>...</td>\n",
              "    </tr>\n",
              "    <tr>\n",
              "      <th>Namibia</th>\n",
              "      <td>3.1338</td>\n",
              "      <td>8.1166</td>\n",
              "      <td>2587.344</td>\n",
              "      <td>825615</td>\n",
              "    </tr>\n",
              "    <tr>\n",
              "      <th>Western Sahara</th>\n",
              "      <td>2.3003</td>\n",
              "      <td>5.9577</td>\n",
              "      <td>611.875</td>\n",
              "      <td>266000</td>\n",
              "    </tr>\n",
              "    <tr>\n",
              "      <th>Mongolia</th>\n",
              "      <td>2.1286</td>\n",
              "      <td>5.5129</td>\n",
              "      <td>3329.289</td>\n",
              "      <td>1564110</td>\n",
              "    </tr>\n",
              "    <tr>\n",
              "      <th>Falkland Islands</th>\n",
              "      <td>0.2902</td>\n",
              "      <td>0.7517</td>\n",
              "      <td>3.533</td>\n",
              "      <td>12173</td>\n",
              "    </tr>\n",
              "    <tr>\n",
              "      <th>Greenland</th>\n",
              "      <td>0.0263</td>\n",
              "      <td>0.0680</td>\n",
              "      <td>56.877</td>\n",
              "      <td>2166086</td>\n",
              "    </tr>\n",
              "  </tbody>\n",
              "</table>\n",
              "<p>232 rows × 4 columns</p>\n",
              "</div>"
            ],
            "text/plain": [
              "                  density_km  density_mile  population     area\n",
              "country                                                        \n",
              "Macau             21946.4667    56841.3487     658.394       30\n",
              "Monaco            19755.5000    51166.7450      39.511        2\n",
              "Singapore          8305.1915    21510.4461    5896.686      710\n",
              "Hong Kong          6841.3134    17719.0017    7552.810     1104\n",
              "Gibraltar          5616.3333    14546.3033      33.698        6\n",
              "...                      ...           ...         ...      ...\n",
              "Namibia               3.1338        8.1166    2587.344   825615\n",
              "Western Sahara        2.3003        5.9577     611.875   266000\n",
              "Mongolia              2.1286        5.5129    3329.289  1564110\n",
              "Falkland Islands      0.2902        0.7517       3.533    12173\n",
              "Greenland             0.0263        0.0680      56.877  2166086\n",
              "\n",
              "[232 rows x 4 columns]"
            ]
          },
          "metadata": {},
          "execution_count": 15
        }
      ]
    },
    {
      "cell_type": "markdown",
      "metadata": {
        "id": "WQgxUhHVI-sT"
      },
      "source": [
        "### PROBLEM 6. Output as a separate DF the columns \"population\" and \"territory\" of the countries \"Uzbekistan\", \"Malaysia\", \"South Korea\", \"France\"."
      ],
      "id": "WQgxUhHVI-sT"
    },
    {
      "cell_type": "code",
      "metadata": {
        "id": "CA_UMXWSJf8T",
        "outputId": "28a409ee-0c9b-4cf5-ce4d-706b02aaa8b7",
        "colab": {
          "base_uri": "https://localhost:8080/",
          "height": 206
        }
      },
      "source": [
        "# Write your answer here\n",
        "ind.loc[['Uzbekistan','Malaysia','South Korea','France'],['population','area']]"
      ],
      "id": "CA_UMXWSJf8T",
      "execution_count": 16,
      "outputs": [
        {
          "output_type": "execute_result",
          "data": {
            "text/html": [
              "<div>\n",
              "<style scoped>\n",
              "    .dataframe tbody tr th:only-of-type {\n",
              "        vertical-align: middle;\n",
              "    }\n",
              "\n",
              "    .dataframe tbody tr th {\n",
              "        vertical-align: top;\n",
              "    }\n",
              "\n",
              "    .dataframe thead th {\n",
              "        text-align: right;\n",
              "    }\n",
              "</style>\n",
              "<table border=\"1\" class=\"dataframe\">\n",
              "  <thead>\n",
              "    <tr style=\"text-align: right;\">\n",
              "      <th></th>\n",
              "      <th>population</th>\n",
              "      <th>area</th>\n",
              "    </tr>\n",
              "    <tr>\n",
              "      <th>country</th>\n",
              "      <th></th>\n",
              "      <th></th>\n",
              "    </tr>\n",
              "  </thead>\n",
              "  <tbody>\n",
              "    <tr>\n",
              "      <th>Uzbekistan</th>\n",
              "      <td>33935.763</td>\n",
              "      <td>447400</td>\n",
              "    </tr>\n",
              "    <tr>\n",
              "      <th>Malaysia</th>\n",
              "      <td>32776.194</td>\n",
              "      <td>330803</td>\n",
              "    </tr>\n",
              "    <tr>\n",
              "      <th>South Korea</th>\n",
              "      <td>51305.186</td>\n",
              "      <td>100210</td>\n",
              "    </tr>\n",
              "    <tr>\n",
              "      <th>France</th>\n",
              "      <td>65426.179</td>\n",
              "      <td>551695</td>\n",
              "    </tr>\n",
              "  </tbody>\n",
              "</table>\n",
              "</div>"
            ],
            "text/plain": [
              "             population    area\n",
              "country                        \n",
              "Uzbekistan    33935.763  447400\n",
              "Malaysia      32776.194  330803\n",
              "South Korea   51305.186  100210\n",
              "France        65426.179  551695"
            ]
          },
          "metadata": {},
          "execution_count": 16
        }
      ]
    },
    {
      "cell_type": "code",
      "source": [
        "r=ind.loc[['Uzbekistan','Malaysia','South Korea','France'],['population','area']]\n",
        "r.sort_values('population', ascending=False)"
      ],
      "metadata": {
        "colab": {
          "base_uri": "https://localhost:8080/",
          "height": 206
        },
        "id": "262VM3WCeRoY",
        "outputId": "3f7a0062-7321-49e0-d389-32abbf4c5a3f"
      },
      "id": "262VM3WCeRoY",
      "execution_count": 17,
      "outputs": [
        {
          "output_type": "execute_result",
          "data": {
            "text/html": [
              "<div>\n",
              "<style scoped>\n",
              "    .dataframe tbody tr th:only-of-type {\n",
              "        vertical-align: middle;\n",
              "    }\n",
              "\n",
              "    .dataframe tbody tr th {\n",
              "        vertical-align: top;\n",
              "    }\n",
              "\n",
              "    .dataframe thead th {\n",
              "        text-align: right;\n",
              "    }\n",
              "</style>\n",
              "<table border=\"1\" class=\"dataframe\">\n",
              "  <thead>\n",
              "    <tr style=\"text-align: right;\">\n",
              "      <th></th>\n",
              "      <th>population</th>\n",
              "      <th>area</th>\n",
              "    </tr>\n",
              "    <tr>\n",
              "      <th>country</th>\n",
              "      <th></th>\n",
              "      <th></th>\n",
              "    </tr>\n",
              "  </thead>\n",
              "  <tbody>\n",
              "    <tr>\n",
              "      <th>France</th>\n",
              "      <td>65426.179</td>\n",
              "      <td>551695</td>\n",
              "    </tr>\n",
              "    <tr>\n",
              "      <th>South Korea</th>\n",
              "      <td>51305.186</td>\n",
              "      <td>100210</td>\n",
              "    </tr>\n",
              "    <tr>\n",
              "      <th>Uzbekistan</th>\n",
              "      <td>33935.763</td>\n",
              "      <td>447400</td>\n",
              "    </tr>\n",
              "    <tr>\n",
              "      <th>Malaysia</th>\n",
              "      <td>32776.194</td>\n",
              "      <td>330803</td>\n",
              "    </tr>\n",
              "  </tbody>\n",
              "</table>\n",
              "</div>"
            ],
            "text/plain": [
              "             population    area\n",
              "country                        \n",
              "France        65426.179  551695\n",
              "South Korea   51305.186  100210\n",
              "Uzbekistan    33935.763  447400\n",
              "Malaysia      32776.194  330803"
            ]
          },
          "metadata": {},
          "execution_count": 17
        }
      ]
    },
    {
      "cell_type": "markdown",
      "metadata": {
        "id": "MD9cG-oGMUXl"
      },
      "source": [
        "### TASK 7. Multiply the values of the `population` column of the original DF by 1000."
      ],
      "id": "MD9cG-oGMUXl"
    },
    {
      "cell_type": "code",
      "metadata": {
        "id": "AWNqbnGgKZtH",
        "outputId": "060ed3a6-8010-4d8d-ac6f-81eafb4deb86",
        "colab": {
          "base_uri": "https://localhost:8080/",
          "height": 455
        }
      },
      "source": [
        "# Write your answer here\n",
        "p['population'] = 1000 * p['population']\n",
        "p"
      ],
      "id": "AWNqbnGgKZtH",
      "execution_count": 18,
      "outputs": [
        {
          "output_type": "execute_result",
          "data": {
            "text/html": [
              "<div>\n",
              "<style scoped>\n",
              "    .dataframe tbody tr th:only-of-type {\n",
              "        vertical-align: middle;\n",
              "    }\n",
              "\n",
              "    .dataframe tbody tr th {\n",
              "        vertical-align: top;\n",
              "    }\n",
              "\n",
              "    .dataframe thead th {\n",
              "        text-align: right;\n",
              "    }\n",
              "</style>\n",
              "<table border=\"1\" class=\"dataframe\">\n",
              "  <thead>\n",
              "    <tr style=\"text-align: right;\">\n",
              "      <th></th>\n",
              "      <th>density_km</th>\n",
              "      <th>density_mile</th>\n",
              "      <th>population</th>\n",
              "      <th>area</th>\n",
              "    </tr>\n",
              "    <tr>\n",
              "      <th>country</th>\n",
              "      <th></th>\n",
              "      <th></th>\n",
              "      <th></th>\n",
              "      <th></th>\n",
              "    </tr>\n",
              "  </thead>\n",
              "  <tbody>\n",
              "    <tr>\n",
              "      <th>Afghanistan</th>\n",
              "      <td>61.0757</td>\n",
              "      <td>158.1862</td>\n",
              "      <td>39835428.0</td>\n",
              "      <td>652230</td>\n",
              "    </tr>\n",
              "    <tr>\n",
              "      <th>Albania</th>\n",
              "      <td>99.9351</td>\n",
              "      <td>258.8318</td>\n",
              "      <td>2872933.0</td>\n",
              "      <td>28748</td>\n",
              "    </tr>\n",
              "    <tr>\n",
              "      <th>Algeria</th>\n",
              "      <td>18.7328</td>\n",
              "      <td>48.5179</td>\n",
              "      <td>44616624.0</td>\n",
              "      <td>2381741</td>\n",
              "    </tr>\n",
              "    <tr>\n",
              "      <th>American Samoa</th>\n",
              "      <td>276.8844</td>\n",
              "      <td>717.1307</td>\n",
              "      <td>55100.0</td>\n",
              "      <td>199</td>\n",
              "    </tr>\n",
              "    <tr>\n",
              "      <th>Andorra</th>\n",
              "      <td>165.2885</td>\n",
              "      <td>428.0971</td>\n",
              "      <td>77355.0</td>\n",
              "      <td>468</td>\n",
              "    </tr>\n",
              "    <tr>\n",
              "      <th>...</th>\n",
              "      <td>...</td>\n",
              "      <td>...</td>\n",
              "      <td>...</td>\n",
              "      <td>...</td>\n",
              "    </tr>\n",
              "    <tr>\n",
              "      <th>Wallis and Futuna</th>\n",
              "      <td>78.1268</td>\n",
              "      <td>202.3483</td>\n",
              "      <td>11094.0</td>\n",
              "      <td>142</td>\n",
              "    </tr>\n",
              "    <tr>\n",
              "      <th>Western Sahara</th>\n",
              "      <td>2.3003</td>\n",
              "      <td>5.9577</td>\n",
              "      <td>611875.0</td>\n",
              "      <td>266000</td>\n",
              "    </tr>\n",
              "    <tr>\n",
              "      <th>Yemen</th>\n",
              "      <td>57.7509</td>\n",
              "      <td>149.5749</td>\n",
              "      <td>30490640.0</td>\n",
              "      <td>527968</td>\n",
              "    </tr>\n",
              "    <tr>\n",
              "      <th>Zambia</th>\n",
              "      <td>25.1400</td>\n",
              "      <td>65.1125</td>\n",
              "      <td>18920651.0</td>\n",
              "      <td>752612</td>\n",
              "    </tr>\n",
              "    <tr>\n",
              "      <th>Zimbabwe</th>\n",
              "      <td>38.6229</td>\n",
              "      <td>100.0333</td>\n",
              "      <td>15092171.0</td>\n",
              "      <td>390757</td>\n",
              "    </tr>\n",
              "  </tbody>\n",
              "</table>\n",
              "<p>232 rows × 4 columns</p>\n",
              "</div>"
            ],
            "text/plain": [
              "                   density_km  density_mile  population     area\n",
              "country                                                         \n",
              "Afghanistan           61.0757      158.1862  39835428.0   652230\n",
              "Albania               99.9351      258.8318   2872933.0    28748\n",
              "Algeria               18.7328       48.5179  44616624.0  2381741\n",
              "American Samoa       276.8844      717.1307     55100.0      199\n",
              "Andorra              165.2885      428.0971     77355.0      468\n",
              "...                       ...           ...         ...      ...\n",
              "Wallis and Futuna     78.1268      202.3483     11094.0      142\n",
              "Western Sahara         2.3003        5.9577    611875.0   266000\n",
              "Yemen                 57.7509      149.5749  30490640.0   527968\n",
              "Zambia                25.1400       65.1125  18920651.0   752612\n",
              "Zimbabwe              38.6229      100.0333  15092171.0   390757\n",
              "\n",
              "[232 rows x 4 columns]"
            ]
          },
          "metadata": {},
          "execution_count": 18
        }
      ]
    },
    {
      "cell_type": "code",
      "metadata": {
        "id": "7NtDk90HNFOE"
      },
      "source": [
        "#@title Expected result\n"
      ],
      "id": "7NtDk90HNFOE",
      "execution_count": 19,
      "outputs": []
    },
    {
      "cell_type": "markdown",
      "metadata": {
        "id": "Ss1Zy9g-PE9T"
      },
      "source": [
        "### Place DF in descending order in the Population column and subtract the 10 countries with the smallest populations."
      ],
      "id": "Ss1Zy9g-PE9T"
    },
    {
      "cell_type": "code",
      "metadata": {
        "id": "PCkG4gJJPFsp",
        "outputId": "d7417034-0176-4ecf-f795-dd5a8e482a12",
        "colab": {
          "base_uri": "https://localhost:8080/",
          "height": 394
        }
      },
      "source": [
        "# Write your answer here\n",
        "p.sort_values(by='population', ascending=False).tail(10)"
      ],
      "id": "PCkG4gJJPFsp",
      "execution_count": 20,
      "outputs": [
        {
          "output_type": "execute_result",
          "data": {
            "text/html": [
              "<div>\n",
              "<style scoped>\n",
              "    .dataframe tbody tr th:only-of-type {\n",
              "        vertical-align: middle;\n",
              "    }\n",
              "\n",
              "    .dataframe tbody tr th {\n",
              "        vertical-align: top;\n",
              "    }\n",
              "\n",
              "    .dataframe thead th {\n",
              "        text-align: right;\n",
              "    }\n",
              "</style>\n",
              "<table border=\"1\" class=\"dataframe\">\n",
              "  <thead>\n",
              "    <tr style=\"text-align: right;\">\n",
              "      <th></th>\n",
              "      <th>density_km</th>\n",
              "      <th>density_mile</th>\n",
              "      <th>population</th>\n",
              "      <th>area</th>\n",
              "    </tr>\n",
              "    <tr>\n",
              "      <th>country</th>\n",
              "      <th></th>\n",
              "      <th></th>\n",
              "      <th></th>\n",
              "      <th></th>\n",
              "    </tr>\n",
              "  </thead>\n",
              "  <tbody>\n",
              "    <tr>\n",
              "      <th>Tuvalu</th>\n",
              "      <td>458.8846</td>\n",
              "      <td>1188.5112</td>\n",
              "      <td>11931.0</td>\n",
              "      <td>26</td>\n",
              "    </tr>\n",
              "    <tr>\n",
              "      <th>Wallis and Futuna</th>\n",
              "      <td>78.1268</td>\n",
              "      <td>202.3483</td>\n",
              "      <td>11094.0</td>\n",
              "      <td>142</td>\n",
              "    </tr>\n",
              "    <tr>\n",
              "      <th>Nauru</th>\n",
              "      <td>517.9048</td>\n",
              "      <td>1341.3733</td>\n",
              "      <td>10876.0</td>\n",
              "      <td>21</td>\n",
              "    </tr>\n",
              "    <tr>\n",
              "      <th>Saint Barthelemy</th>\n",
              "      <td>471.7619</td>\n",
              "      <td>1221.8633</td>\n",
              "      <td>9907.0</td>\n",
              "      <td>21</td>\n",
              "    </tr>\n",
              "    <tr>\n",
              "      <th>Saint Pierre and Miquelon</th>\n",
              "      <td>23.8264</td>\n",
              "      <td>61.7105</td>\n",
              "      <td>5766.0</td>\n",
              "      <td>242</td>\n",
              "    </tr>\n",
              "    <tr>\n",
              "      <th>Montserrat</th>\n",
              "      <td>48.7941</td>\n",
              "      <td>126.3768</td>\n",
              "      <td>4977.0</td>\n",
              "      <td>102</td>\n",
              "    </tr>\n",
              "    <tr>\n",
              "      <th>Falkland Islands</th>\n",
              "      <td>0.2902</td>\n",
              "      <td>0.7517</td>\n",
              "      <td>3533.0</td>\n",
              "      <td>12173</td>\n",
              "    </tr>\n",
              "    <tr>\n",
              "      <th>Niue</th>\n",
              "      <td>6.2269</td>\n",
              "      <td>16.1277</td>\n",
              "      <td>1619.0</td>\n",
              "      <td>260</td>\n",
              "    </tr>\n",
              "    <tr>\n",
              "      <th>Tokelau</th>\n",
              "      <td>114.4167</td>\n",
              "      <td>296.3392</td>\n",
              "      <td>1373.0</td>\n",
              "      <td>12</td>\n",
              "    </tr>\n",
              "    <tr>\n",
              "      <th>Vatican City</th>\n",
              "      <td>800.0000</td>\n",
              "      <td>2072.0000</td>\n",
              "      <td>800.0</td>\n",
              "      <td>1</td>\n",
              "    </tr>\n",
              "  </tbody>\n",
              "</table>\n",
              "</div>"
            ],
            "text/plain": [
              "                           density_km  density_mile  population   area\n",
              "country                                                               \n",
              "Tuvalu                       458.8846     1188.5112     11931.0     26\n",
              "Wallis and Futuna             78.1268      202.3483     11094.0    142\n",
              "Nauru                        517.9048     1341.3733     10876.0     21\n",
              "Saint Barthelemy             471.7619     1221.8633      9907.0     21\n",
              "Saint Pierre and Miquelon     23.8264       61.7105      5766.0    242\n",
              "Montserrat                    48.7941      126.3768      4977.0    102\n",
              "Falkland Islands               0.2902        0.7517      3533.0  12173\n",
              "Niue                           6.2269       16.1277      1619.0    260\n",
              "Tokelau                      114.4167      296.3392      1373.0     12\n",
              "Vatican City                 800.0000     2072.0000       800.0      1"
            ]
          },
          "metadata": {},
          "execution_count": 20
        }
      ]
    },
    {
      "cell_type": "markdown",
      "metadata": {
        "id": "Py6rMpkISr0E"
      },
      "source": [
        "### 8-TASK. Rate the DF by \"area\" and enter the new column \"rank\"."
      ],
      "id": "Py6rMpkISr0E"
    },
    {
      "cell_type": "code",
      "metadata": {
        "id": "05Ku1LKIQh2c",
        "outputId": "d7c0b18f-caa4-4294-fea7-0b5a2ffa805d",
        "colab": {
          "base_uri": "https://localhost:8080/",
          "height": 455
        }
      },
      "source": [
        "# Write your answer here\n",
        "p['rank']=p['area'].rank()\n",
        "p"
      ],
      "id": "05Ku1LKIQh2c",
      "execution_count": 21,
      "outputs": [
        {
          "output_type": "execute_result",
          "data": {
            "text/html": [
              "<div>\n",
              "<style scoped>\n",
              "    .dataframe tbody tr th:only-of-type {\n",
              "        vertical-align: middle;\n",
              "    }\n",
              "\n",
              "    .dataframe tbody tr th {\n",
              "        vertical-align: top;\n",
              "    }\n",
              "\n",
              "    .dataframe thead th {\n",
              "        text-align: right;\n",
              "    }\n",
              "</style>\n",
              "<table border=\"1\" class=\"dataframe\">\n",
              "  <thead>\n",
              "    <tr style=\"text-align: right;\">\n",
              "      <th></th>\n",
              "      <th>density_km</th>\n",
              "      <th>density_mile</th>\n",
              "      <th>population</th>\n",
              "      <th>area</th>\n",
              "      <th>rank</th>\n",
              "    </tr>\n",
              "    <tr>\n",
              "      <th>country</th>\n",
              "      <th></th>\n",
              "      <th></th>\n",
              "      <th></th>\n",
              "      <th></th>\n",
              "      <th></th>\n",
              "    </tr>\n",
              "  </thead>\n",
              "  <tbody>\n",
              "    <tr>\n",
              "      <th>Afghanistan</th>\n",
              "      <td>61.0757</td>\n",
              "      <td>158.1862</td>\n",
              "      <td>39835428.0</td>\n",
              "      <td>652230</td>\n",
              "      <td>192.0</td>\n",
              "    </tr>\n",
              "    <tr>\n",
              "      <th>Albania</th>\n",
              "      <td>99.9351</td>\n",
              "      <td>258.8318</td>\n",
              "      <td>2872933.0</td>\n",
              "      <td>28748</td>\n",
              "      <td>89.0</td>\n",
              "    </tr>\n",
              "    <tr>\n",
              "      <th>Algeria</th>\n",
              "      <td>18.7328</td>\n",
              "      <td>48.5179</td>\n",
              "      <td>44616624.0</td>\n",
              "      <td>2381741</td>\n",
              "      <td>223.0</td>\n",
              "    </tr>\n",
              "    <tr>\n",
              "      <th>American Samoa</th>\n",
              "      <td>276.8844</td>\n",
              "      <td>717.1307</td>\n",
              "      <td>55100.0</td>\n",
              "      <td>199</td>\n",
              "      <td>20.0</td>\n",
              "    </tr>\n",
              "    <tr>\n",
              "      <th>Andorra</th>\n",
              "      <td>165.2885</td>\n",
              "      <td>428.0971</td>\n",
              "      <td>77355.0</td>\n",
              "      <td>468</td>\n",
              "      <td>38.0</td>\n",
              "    </tr>\n",
              "    <tr>\n",
              "      <th>...</th>\n",
              "      <td>...</td>\n",
              "      <td>...</td>\n",
              "      <td>...</td>\n",
              "      <td>...</td>\n",
              "      <td>...</td>\n",
              "    </tr>\n",
              "    <tr>\n",
              "      <th>Wallis and Futuna</th>\n",
              "      <td>78.1268</td>\n",
              "      <td>202.3483</td>\n",
              "      <td>11094.0</td>\n",
              "      <td>142</td>\n",
              "      <td>15.0</td>\n",
              "    </tr>\n",
              "    <tr>\n",
              "      <th>Western Sahara</th>\n",
              "      <td>2.3003</td>\n",
              "      <td>5.9577</td>\n",
              "      <td>611875.0</td>\n",
              "      <td>266000</td>\n",
              "      <td>155.0</td>\n",
              "    </tr>\n",
              "    <tr>\n",
              "      <th>Yemen</th>\n",
              "      <td>57.7509</td>\n",
              "      <td>149.5749</td>\n",
              "      <td>30490640.0</td>\n",
              "      <td>527968</td>\n",
              "      <td>183.0</td>\n",
              "    </tr>\n",
              "    <tr>\n",
              "      <th>Zambia</th>\n",
              "      <td>25.1400</td>\n",
              "      <td>65.1125</td>\n",
              "      <td>18920651.0</td>\n",
              "      <td>752612</td>\n",
              "      <td>194.0</td>\n",
              "    </tr>\n",
              "    <tr>\n",
              "      <th>Zimbabwe</th>\n",
              "      <td>38.6229</td>\n",
              "      <td>100.0333</td>\n",
              "      <td>15092171.0</td>\n",
              "      <td>390757</td>\n",
              "      <td>172.0</td>\n",
              "    </tr>\n",
              "  </tbody>\n",
              "</table>\n",
              "<p>232 rows × 5 columns</p>\n",
              "</div>"
            ],
            "text/plain": [
              "                   density_km  density_mile  population     area   rank\n",
              "country                                                                \n",
              "Afghanistan           61.0757      158.1862  39835428.0   652230  192.0\n",
              "Albania               99.9351      258.8318   2872933.0    28748   89.0\n",
              "Algeria               18.7328       48.5179  44616624.0  2381741  223.0\n",
              "American Samoa       276.8844      717.1307     55100.0      199   20.0\n",
              "Andorra              165.2885      428.0971     77355.0      468   38.0\n",
              "...                       ...           ...         ...      ...    ...\n",
              "Wallis and Futuna     78.1268      202.3483     11094.0      142   15.0\n",
              "Western Sahara         2.3003        5.9577    611875.0   266000  155.0\n",
              "Yemen                 57.7509      149.5749  30490640.0   527968  183.0\n",
              "Zambia                25.1400       65.1125  18920651.0   752612  194.0\n",
              "Zimbabwe              38.6229      100.0333  15092171.0   390757  172.0\n",
              "\n",
              "[232 rows x 5 columns]"
            ]
          },
          "metadata": {},
          "execution_count": 21
        }
      ]
    },
    {
      "cell_type": "markdown",
      "metadata": {
        "id": "DnKJZeduURMw"
      },
      "source": [
        "#### Show the countries `Uzbekistan`,` Great Britain`, `Indonesia` in a separate df format"
      ],
      "id": "DnKJZeduURMw"
    },
    {
      "cell_type": "code",
      "source": [
        "df3=p.loc[['Uzbekistan','United Kingdom','Indonesia']]\n",
        "df3"
      ],
      "metadata": {
        "id": "04vyiDaY8O16",
        "outputId": "1bc79092-ad4d-4006-822e-d2c04fbe5baa",
        "colab": {
          "base_uri": "https://localhost:8080/",
          "height": 174
        }
      },
      "id": "04vyiDaY8O16",
      "execution_count": 24,
      "outputs": [
        {
          "output_type": "execute_result",
          "data": {
            "text/html": [
              "<div>\n",
              "<style scoped>\n",
              "    .dataframe tbody tr th:only-of-type {\n",
              "        vertical-align: middle;\n",
              "    }\n",
              "\n",
              "    .dataframe tbody tr th {\n",
              "        vertical-align: top;\n",
              "    }\n",
              "\n",
              "    .dataframe thead th {\n",
              "        text-align: right;\n",
              "    }\n",
              "</style>\n",
              "<table border=\"1\" class=\"dataframe\">\n",
              "  <thead>\n",
              "    <tr style=\"text-align: right;\">\n",
              "      <th></th>\n",
              "      <th>density_km</th>\n",
              "      <th>density_mile</th>\n",
              "      <th>population</th>\n",
              "      <th>area</th>\n",
              "      <th>rank</th>\n",
              "    </tr>\n",
              "    <tr>\n",
              "      <th>country</th>\n",
              "      <th></th>\n",
              "      <th></th>\n",
              "      <th></th>\n",
              "      <th></th>\n",
              "      <th></th>\n",
              "    </tr>\n",
              "  </thead>\n",
              "  <tbody>\n",
              "    <tr>\n",
              "      <th>Uzbekistan</th>\n",
              "      <td>75.8511</td>\n",
              "      <td>196.4542</td>\n",
              "      <td>33935763.0</td>\n",
              "      <td>447400</td>\n",
              "      <td>176.0</td>\n",
              "    </tr>\n",
              "    <tr>\n",
              "      <th>United Kingdom</th>\n",
              "      <td>280.8033</td>\n",
              "      <td>727.2805</td>\n",
              "      <td>68207116.0</td>\n",
              "      <td>242900</td>\n",
              "      <td>153.0</td>\n",
              "    </tr>\n",
              "    <tr>\n",
              "      <th>Indonesia</th>\n",
              "      <td>145.1046</td>\n",
              "      <td>375.8210</td>\n",
              "      <td>276361783.0</td>\n",
              "      <td>1904569</td>\n",
              "      <td>218.0</td>\n",
              "    </tr>\n",
              "  </tbody>\n",
              "</table>\n",
              "</div>"
            ],
            "text/plain": [
              "                density_km  density_mile   population     area   rank\n",
              "country                                                              \n",
              "Uzbekistan         75.8511      196.4542   33935763.0   447400  176.0\n",
              "United Kingdom    280.8033      727.2805   68207116.0   242900  153.0\n",
              "Indonesia         145.1046      375.8210  276361783.0  1904569  218.0"
            ]
          },
          "metadata": {},
          "execution_count": 24
        }
      ]
    },
    {
      "cell_type": "markdown",
      "metadata": {
        "id": "Gb_fA7pkW7qo"
      },
      "source": [
        "### TASK 9. Sort the DF by `country`. "
      ],
      "id": "Gb_fA7pkW7qo"
    },
    {
      "cell_type": "code",
      "metadata": {
        "id": "7jGiBGyKXZaZ",
        "outputId": "598110c3-d918-4d14-e8d1-5ee86f937c1b",
        "colab": {
          "base_uri": "https://localhost:8080/",
          "height": 455
        }
      },
      "source": [
        "# Write your answer here\n",
        "p"
      ],
      "id": "7jGiBGyKXZaZ",
      "execution_count": 26,
      "outputs": [
        {
          "output_type": "execute_result",
          "data": {
            "text/html": [
              "<div>\n",
              "<style scoped>\n",
              "    .dataframe tbody tr th:only-of-type {\n",
              "        vertical-align: middle;\n",
              "    }\n",
              "\n",
              "    .dataframe tbody tr th {\n",
              "        vertical-align: top;\n",
              "    }\n",
              "\n",
              "    .dataframe thead th {\n",
              "        text-align: right;\n",
              "    }\n",
              "</style>\n",
              "<table border=\"1\" class=\"dataframe\">\n",
              "  <thead>\n",
              "    <tr style=\"text-align: right;\">\n",
              "      <th></th>\n",
              "      <th>density_km</th>\n",
              "      <th>density_mile</th>\n",
              "      <th>population</th>\n",
              "      <th>area</th>\n",
              "      <th>rank</th>\n",
              "    </tr>\n",
              "    <tr>\n",
              "      <th>country</th>\n",
              "      <th></th>\n",
              "      <th></th>\n",
              "      <th></th>\n",
              "      <th></th>\n",
              "      <th></th>\n",
              "    </tr>\n",
              "  </thead>\n",
              "  <tbody>\n",
              "    <tr>\n",
              "      <th>Afghanistan</th>\n",
              "      <td>61.0757</td>\n",
              "      <td>158.1862</td>\n",
              "      <td>39835428.0</td>\n",
              "      <td>652230</td>\n",
              "      <td>192.0</td>\n",
              "    </tr>\n",
              "    <tr>\n",
              "      <th>Albania</th>\n",
              "      <td>99.9351</td>\n",
              "      <td>258.8318</td>\n",
              "      <td>2872933.0</td>\n",
              "      <td>28748</td>\n",
              "      <td>89.0</td>\n",
              "    </tr>\n",
              "    <tr>\n",
              "      <th>Algeria</th>\n",
              "      <td>18.7328</td>\n",
              "      <td>48.5179</td>\n",
              "      <td>44616624.0</td>\n",
              "      <td>2381741</td>\n",
              "      <td>223.0</td>\n",
              "    </tr>\n",
              "    <tr>\n",
              "      <th>American Samoa</th>\n",
              "      <td>276.8844</td>\n",
              "      <td>717.1307</td>\n",
              "      <td>55100.0</td>\n",
              "      <td>199</td>\n",
              "      <td>20.0</td>\n",
              "    </tr>\n",
              "    <tr>\n",
              "      <th>Andorra</th>\n",
              "      <td>165.2885</td>\n",
              "      <td>428.0971</td>\n",
              "      <td>77355.0</td>\n",
              "      <td>468</td>\n",
              "      <td>38.0</td>\n",
              "    </tr>\n",
              "    <tr>\n",
              "      <th>...</th>\n",
              "      <td>...</td>\n",
              "      <td>...</td>\n",
              "      <td>...</td>\n",
              "      <td>...</td>\n",
              "      <td>...</td>\n",
              "    </tr>\n",
              "    <tr>\n",
              "      <th>Wallis and Futuna</th>\n",
              "      <td>78.1268</td>\n",
              "      <td>202.3483</td>\n",
              "      <td>11094.0</td>\n",
              "      <td>142</td>\n",
              "      <td>15.0</td>\n",
              "    </tr>\n",
              "    <tr>\n",
              "      <th>Western Sahara</th>\n",
              "      <td>2.3003</td>\n",
              "      <td>5.9577</td>\n",
              "      <td>611875.0</td>\n",
              "      <td>266000</td>\n",
              "      <td>155.0</td>\n",
              "    </tr>\n",
              "    <tr>\n",
              "      <th>Yemen</th>\n",
              "      <td>57.7509</td>\n",
              "      <td>149.5749</td>\n",
              "      <td>30490640.0</td>\n",
              "      <td>527968</td>\n",
              "      <td>183.0</td>\n",
              "    </tr>\n",
              "    <tr>\n",
              "      <th>Zambia</th>\n",
              "      <td>25.1400</td>\n",
              "      <td>65.1125</td>\n",
              "      <td>18920651.0</td>\n",
              "      <td>752612</td>\n",
              "      <td>194.0</td>\n",
              "    </tr>\n",
              "    <tr>\n",
              "      <th>Zimbabwe</th>\n",
              "      <td>38.6229</td>\n",
              "      <td>100.0333</td>\n",
              "      <td>15092171.0</td>\n",
              "      <td>390757</td>\n",
              "      <td>172.0</td>\n",
              "    </tr>\n",
              "  </tbody>\n",
              "</table>\n",
              "<p>232 rows × 5 columns</p>\n",
              "</div>"
            ],
            "text/plain": [
              "                   density_km  density_mile  population     area   rank\n",
              "country                                                                \n",
              "Afghanistan           61.0757      158.1862  39835428.0   652230  192.0\n",
              "Albania               99.9351      258.8318   2872933.0    28748   89.0\n",
              "Algeria               18.7328       48.5179  44616624.0  2381741  223.0\n",
              "American Samoa       276.8844      717.1307     55100.0      199   20.0\n",
              "Andorra              165.2885      428.0971     77355.0      468   38.0\n",
              "...                       ...           ...         ...      ...    ...\n",
              "Wallis and Futuna     78.1268      202.3483     11094.0      142   15.0\n",
              "Western Sahara         2.3003        5.9577    611875.0   266000  155.0\n",
              "Yemen                 57.7509      149.5749  30490640.0   527968  183.0\n",
              "Zambia                25.1400       65.1125  18920651.0   752612  194.0\n",
              "Zimbabwe              38.6229      100.0333  15092171.0   390757  172.0\n",
              "\n",
              "[232 rows x 5 columns]"
            ]
          },
          "metadata": {},
          "execution_count": 26
        }
      ]
    },
    {
      "cell_type": "markdown",
      "metadata": {
        "id": "mTvs6OF9XzN7"
      },
      "source": [
        "#### Derive countries with a rating of 10,50,100,200 from DF in a separate DF"
      ],
      "id": "mTvs6OF9XzN7"
    },
    {
      "cell_type": "code",
      "metadata": {
        "id": "e_58EgMWXy85",
        "outputId": "29085ffb-2dac-400f-9734-405cc8a7ac8f",
        "colab": {
          "base_uri": "https://localhost:8080/",
          "height": 206
        }
      },
      "source": [
        "# Write your answer here\n",
        "rows=[10,50,100,200]\n",
        "p.iloc[rows,:]"
      ],
      "id": "e_58EgMWXy85",
      "execution_count": 27,
      "outputs": [
        {
          "output_type": "execute_result",
          "data": {
            "text/html": [
              "<div>\n",
              "<style scoped>\n",
              "    .dataframe tbody tr th:only-of-type {\n",
              "        vertical-align: middle;\n",
              "    }\n",
              "\n",
              "    .dataframe tbody tr th {\n",
              "        vertical-align: top;\n",
              "    }\n",
              "\n",
              "    .dataframe thead th {\n",
              "        text-align: right;\n",
              "    }\n",
              "</style>\n",
              "<table border=\"1\" class=\"dataframe\">\n",
              "  <thead>\n",
              "    <tr style=\"text-align: right;\">\n",
              "      <th></th>\n",
              "      <th>density_km</th>\n",
              "      <th>density_mile</th>\n",
              "      <th>population</th>\n",
              "      <th>area</th>\n",
              "      <th>rank</th>\n",
              "    </tr>\n",
              "    <tr>\n",
              "      <th>country</th>\n",
              "      <th></th>\n",
              "      <th></th>\n",
              "      <th></th>\n",
              "      <th></th>\n",
              "      <th></th>\n",
              "    </tr>\n",
              "  </thead>\n",
              "  <tbody>\n",
              "    <tr>\n",
              "      <th>Aruba</th>\n",
              "      <td>595.5778</td>\n",
              "      <td>1542.5464</td>\n",
              "      <td>107204.0</td>\n",
              "      <td>180</td>\n",
              "      <td>18.0</td>\n",
              "    </tr>\n",
              "    <tr>\n",
              "      <th>Czech Republic</th>\n",
              "      <td>135.9862</td>\n",
              "      <td>352.2044</td>\n",
              "      <td>10724555.0</td>\n",
              "      <td>78865</td>\n",
              "      <td>115.0</td>\n",
              "    </tr>\n",
              "    <tr>\n",
              "      <th>Jamaica</th>\n",
              "      <td>270.5362</td>\n",
              "      <td>700.6887</td>\n",
              "      <td>2973463.0</td>\n",
              "      <td>10991</td>\n",
              "      <td>68.0</td>\n",
              "    </tr>\n",
              "    <tr>\n",
              "      <th>Syria</th>\n",
              "      <td>98.6916</td>\n",
              "      <td>255.6111</td>\n",
              "      <td>18275702.0</td>\n",
              "      <td>185180</td>\n",
              "      <td>144.0</td>\n",
              "    </tr>\n",
              "  </tbody>\n",
              "</table>\n",
              "</div>"
            ],
            "text/plain": [
              "                density_km  density_mile  population    area   rank\n",
              "country                                                            \n",
              "Aruba             595.5778     1542.5464    107204.0     180   18.0\n",
              "Czech Republic    135.9862      352.2044  10724555.0   78865  115.0\n",
              "Jamaica           270.5362      700.6887   2973463.0   10991   68.0\n",
              "Syria              98.6916      255.6111  18275702.0  185180  144.0"
            ]
          },
          "metadata": {},
          "execution_count": 27
        }
      ]
    },
    {
      "cell_type": "markdown",
      "metadata": {
        "id": "GwMtmbecZ0CF"
      },
      "source": [
        "### 10-TASKS. Print the population of the following countries using prime numbers:\n",
        "- `Malaysia`\n",
        "- `Nigeria`\n",
        "- `Nepal`\n",
        "- `Italy`"
      ],
      "id": "GwMtmbecZ0CF"
    },
    {
      "cell_type": "code",
      "source": [
        "df7=p"
      ],
      "metadata": {
        "id": "nyhfwiSBgx3n"
      },
      "id": "nyhfwiSBgx3n",
      "execution_count": 29,
      "outputs": []
    },
    {
      "cell_type": "code",
      "source": [
        "df7.loc['Malaysia','population']"
      ],
      "metadata": {
        "colab": {
          "base_uri": "https://localhost:8080/"
        },
        "id": "A2ZGO-OTgc7A",
        "outputId": "5e924da8-e7fe-4fa8-891a-b69483ffb3b9"
      },
      "id": "A2ZGO-OTgc7A",
      "execution_count": 30,
      "outputs": [
        {
          "output_type": "execute_result",
          "data": {
            "text/plain": [
              "32776194.000000004"
            ]
          },
          "metadata": {},
          "execution_count": 30
        }
      ]
    },
    {
      "cell_type": "code",
      "source": [
        "df7.population.loc['Malaysia']"
      ],
      "metadata": {
        "colab": {
          "base_uri": "https://localhost:8080/"
        },
        "id": "LYVgf5c5g26v",
        "outputId": "5e90a662-7344-4c33-cf25-a82da594ea18"
      },
      "id": "LYVgf5c5g26v",
      "execution_count": 31,
      "outputs": [
        {
          "output_type": "execute_result",
          "data": {
            "text/plain": [
              "32776194.000000004"
            ]
          },
          "metadata": {},
          "execution_count": 31
        }
      ]
    }
  ]
}