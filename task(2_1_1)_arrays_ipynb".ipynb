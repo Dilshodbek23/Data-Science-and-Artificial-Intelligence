{
  "nbformat": 4,
  "nbformat_minor": 0,
  "metadata": {
    "kernelspec": {
      "display_name": "Python 3 (ipykernel)",
      "language": "python",
      "name": "python3"
    },
    "language_info": {
      "codemirror_mode": {
        "name": "ipython",
        "version": 3
      },
      "file_extension": ".py",
      "mimetype": "text/x-python",
      "name": "python",
      "nbconvert_exporter": "python",
      "pygments_lexer": "ipython3",
      "version": "3.9.7"
    },
    "colab": {
      "name": "task(2_1_1)_arrays.ipynb\"",
      "provenance": [],
      "include_colab_link": true
    }
  },
  "cells": [
    {
      "cell_type": "markdown",
      "metadata": {
        "id": "view-in-github",
        "colab_type": "text"
      },
      "source": [
        "<a href=\"https://colab.research.google.com/github/Dilshodbek23/Data-Science-and-Artificial-Intelligence/blob/main/task(2_1_1)_arrays_ipynb%22.ipynb\" target=\"_parent\"><img src=\"https://colab.research.google.com/assets/colab-badge.svg\" alt=\"Open In Colab\"/></a>"
      ]
    },
    {
      "cell_type": "code",
      "metadata": {
        "id": "O42b1oghEMIK"
      },
      "source": [
        "# calling a NumPy library\n",
        "import numpy as np"
      ],
      "execution_count": null,
      "outputs": []
    },
    {
      "cell_type": "markdown",
      "metadata": {
        "id": "jmchUWhEEMIL"
      },
      "source": [
        "### Task (1): Create one-dimensional arrays (4 points)\n",
        "Problem condition: Create a function that creates a one-dimensional array of n elements (n> 0, integers).\n",
        "\n",
        "Help: use an array or a random function. \n"
      ]
    },
    {
      "cell_type": "code",
      "metadata": {
        "id": "-0-6UhXQMf92"
      },
      "source": [
        "from google.colab import drive\n",
        "drive.mount('/content/drive')"
      ],
      "execution_count": null,
      "outputs": []
    },
    {
      "cell_type": "code",
      "metadata": {
        "deletable": false,
        "nbgrader": {
          "cell_type": "code",
          "checksum": "9e35c9ace5b3c33bc1d80237fd6daca2",
          "grade": false,
          "grade_id": "one_dim",
          "locked": false,
          "schema_version": 3,
          "solution": true
        },
        "id": "eQjNf74EEMIO"
      },
      "source": [
        "def one_dim(n):\n",
        "    \"\"\" One-dimensional array of n elements\n",
        "    \"\"\"\n",
        "     # YOUR CODE HERE\n",
        "    list1 = []\n",
        "    for i in range(n):\n",
        "        list1.append(i)\n",
        "    array1 = np.array(list1)\n",
        "    return array1 \n",
        "    raise NotImplementedError()"
      ],
      "execution_count": null,
      "outputs": []
    },
    {
      "cell_type": "markdown",
      "metadata": {
        "id": "APlGrn2jEMIR"
      },
      "source": [
        "Your function is checked by the number of elements, the size of the ndim array and the numpy array: check your function in the cell below"
      ]
    },
    {
      "cell_type": "code",
      "metadata": {
        "deletable": false,
        "editable": false,
        "nbgrader": {
          "cell_type": "code",
          "checksum": "01e7b44c02b60d079cb42ad0468de31c",
          "grade": true,
          "grade_id": "correct_one_dim",
          "locked": false,
          "points": 4,
          "schema_version": 3,
          "solution": false
        },
        "id": "IDqRi94TEMIT"
      },
      "source": [
        "\"\"\"Check that squares returns the correct output for several inputs\"\"\"\n",
        "for i in range(1, 10):\n",
        "    assert len(one_dim(i)) == i  # n is the number of elements\n",
        "    arr = one_dim(i) # massive\n",
        "    assert arr.ndim == 1 # array size\n",
        "    assert type(arr) == np.ndarray # #numpy array "
      ],
      "execution_count": null,
      "outputs": []
    },
    {
      "cell_type": "markdown",
      "metadata": {
        "id": "ElCZ3DvtEMIW"
      },
      "source": [
        "### Task (2) Creating two-dimensional arrays (6 points)\n",
        "Problem: Create a function that creates a 2D array (array) of the shape (r, c).\n",
        "\n",
        "Help: you can use any of the array creation functions in the numpy library.\n"
      ]
    },
    {
      "cell_type": "code",
      "metadata": {
        "deletable": false,
        "nbgrader": {
          "cell_type": "code",
          "checksum": "f8c5bc59c7ec8f5ac5cd6987305bda9a",
          "grade": false,
          "grade_id": "two_dim",
          "locked": false,
          "schema_version": 3,
          "solution": true,
          "task": false
        },
        "id": "ExMOW83xEMIY"
      },
      "source": [
        "def two_dim(r, c):\n",
        "    \"\"\" two-dimensional array consisting of \"r\" rows and \"c\" columns \n",
        "    \"\"\"\n",
        "     # YOUR CODE HERE\n",
        "    list_1 = [[]]*r\n",
        "    for k in range(c):\n",
        "        list_1[0].append(k)\n",
        "    array1 = np.array(list_1)\n",
        "    return array1 \n",
        "    raise NotImplementedError()"
      ],
      "execution_count": null,
      "outputs": []
    },
    {
      "cell_type": "markdown",
      "metadata": {
        "id": "923NBgZZEMIZ"
      },
      "source": [
        "Test your function in the cell below"
      ]
    },
    {
      "cell_type": "code",
      "metadata": {
        "deletable": false,
        "editable": false,
        "nbgrader": {
          "cell_type": "code",
          "checksum": "b728809a382d34a899c960d9944bbfe8",
          "grade": true,
          "grade_id": "correct_two_dim",
          "locked": true,
          "points": 6,
          "schema_version": 3,
          "solution": false,
          "task": false
        },
        "id": "btBOVU8vEMIa"
      },
      "source": [
        "arr = two_dim(3, 2) # massive\n",
        "assert arr.shape == (3, 2) # shape\n",
        "assert arr.ndim == 2 # array size\n",
        "assert type(arr) == np.ndarray # #numpy array "
      ],
      "execution_count": null,
      "outputs": []
    },
    {
      "cell_type": "code",
      "metadata": {
        "id": "2j8udtXrEMIc"
      },
      "source": [
        ""
      ],
      "execution_count": null,
      "outputs": []
    }
  ]
}