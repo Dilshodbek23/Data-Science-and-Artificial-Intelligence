{
  "nbformat": 4,
  "nbformat_minor": 5,
  "metadata": {
    "kernelspec": {
      "display_name": "Python 3 (ipykernel)",
      "language": "python",
      "name": "python3"
    },
    "language_info": {
      "codemirror_mode": {
        "name": "ipython",
        "version": 3
      },
      "file_extension": ".py",
      "mimetype": "text/x-python",
      "name": "python",
      "nbconvert_exporter": "python",
      "pygments_lexer": "ipython3",
      "version": "3.9.7"
    },
    "colab": {
      "name": "Task (2_1_3).ipynb\"",
      "provenance": [],
      "collapsed_sections": [],
      "include_colab_link": true
    }
  },
  "cells": [
    {
      "cell_type": "markdown",
      "metadata": {
        "id": "view-in-github",
        "colab_type": "text"
      },
      "source": [
        "<a href=\"https://colab.research.google.com/github/Dilshodbek23/Data-Science-and-Artificial-Intelligence/blob/main/Task_(2_1_3)_ipynb%22.ipynb\" target=\"_parent\"><img src=\"https://colab.research.google.com/assets/colab-badge.svg\" alt=\"Open In Colab\"/></a>"
      ]
    },
    {
      "cell_type": "markdown",
      "metadata": {
        "id": "52703ab8"
      },
      "source": [
        "---\n",
        "# # Data analysis\n",
        "\n",
        "## 2.1. Working with the Numpy library\n",
        "\n",
        "## 4 tasks\n",
        "\n",
        "## Last task"
      ],
      "id": "52703ab8"
    },
    {
      "cell_type": "code",
      "metadata": {
        "id": "9cb40b17"
      },
      "source": [
        "# Call Numpy library\n",
        "import numpy as np"
      ],
      "id": "9cb40b17",
      "execution_count": null,
      "outputs": []
    },
    {
      "cell_type": "markdown",
      "metadata": {
        "id": "96fc8516"
      },
      "source": [
        "### Task (1): Download data (2-points).\n",
        "Data: The data are contained in two files, the names of which are gm_2020.npz and gm_2021.npz, which show the car models produced by GM Uzbekistan in January-July 2020 and 2021, respectively, and their numbers listed. As can be seen from the npz extension, each file contains arrays (in our case two arrays, (1) the name of the car model, (2) the number of cars produced).\n",
        "\n",
        "The condition is that you download each file and create a function that divides them into two corresponding arrays. Make sure the function you want to create takes the file name as an argument.\n",
        "\n",
        "Important: Arrays stored under the names 'models' and 'qnts'.\n",
        "\n",
        "Help: download using the load method, then return the result using array names.\n",
        "\n",
        "Result: If the gm_2020.npz file is passed to the function, the result may look like this:\n",
        "\n",
        "array (['Labo', 'Damas', ......., 'Gentra'], dtype = '<U6'), array ([4521, 30889, ......, 30368]) )\n",
        "\n",
        "Source: gazeta.uz"
      ],
      "id": "96fc8516"
    },
    {
      "cell_type": "code",
      "metadata": {
        "deletable": false,
        "nbgrader": {
          "cell_type": "code",
          "checksum": "a93dbcf1fa42d6d3e1ce3384a935af6b",
          "grade": false,
          "grade_id": "load_data",
          "locked": false,
          "schema_version": 3,
          "solution": true,
          "task": false
        },
        "id": "92f3647b"
      },
      "source": [
        "def load_data(file_name):\n",
        "    \"\"\"Download each file and create a function that divides them into two corresponding arrays \"\"\"\n",
        "    # YOUR CODE HERE\n",
        "    gm_2020=np.load('gm_2020.npz')\n",
        "    gm_2021=np.load('gm_2021.npz')\n",
        "    return gm_2020\n",
        "    return gm_2021\n",
        "    raise NotImplementedError()"
      ],
      "id": "92f3647b",
      "execution_count": null,
      "outputs": []
    },
    {
      "cell_type": "markdown",
      "metadata": {
        "id": "862f7d0d"
      },
      "source": [
        "Check your function in the cell below. (Note: The function is checked by various hidden tests, our advice, do not try to cheat)"
      ],
      "id": "862f7d0d"
    },
    {
      "cell_type": "code",
      "metadata": {
        "deletable": false,
        "editable": false,
        "nbgrader": {
          "cell_type": "code",
          "checksum": "dabad9d40394624a9a77f8efdca36a3c",
          "grade": true,
          "grade_id": "correct_load_data",
          "locked": true,
          "points": 2,
          "schema_version": 3,
          "solution": false,
          "task": false
        },
        "id": "cfbeaf1e"
      },
      "source": [
        "\"\"\"Funksiyani tekshirish\"\"\"\n",
        "data1 = load_data('gm_2020.npz') # ma'lumotlar (2020)\n",
        "data2 = load_data('gm_2021.npz') # ma'lumotlar (2021)"
      ],
      "id": "cfbeaf1e",
      "execution_count": null,
      "outputs": []
    },
    {
      "cell_type": "markdown",
      "metadata": {
        "id": "4b4f5390"
      },
      "source": [
        "### Task (2): Total number of cars produced. (2-points)\n",
        "We will now perform operations on the data using our data download function created above.\n",
        "\n",
        "Task: Using the data, create a function that calculates the total number of cars produced in 2020 and 2021.\n",
        "\n",
        "The result is: (168 ..., ... 734).\n",
        "\n",
        "There are 168 .... cars produced in 2020. And in 2021 ... 734 cars will be produced."
      ],
      "id": "4b4f5390"
    },
    {
      "cell_type": "code",
      "metadata": {
        "deletable": false,
        "nbgrader": {
          "cell_type": "code",
          "checksum": "bb1359b448d06f631fbe17d2c38e9a51",
          "grade": false,
          "grade_id": "total_qnts",
          "locked": false,
          "schema_version": 3,
          "solution": true,
          "task": false
        },
        "id": "5397fd9a"
      },
      "source": [
        "def total_qnts():\n",
        "    \"\"\"Create a function that calculates the total number of cars produced in 2020 and 2021 using the data.\"\"\"\n",
        "    data1 = load_data('gm_2020.npz') # datas (2020)\n",
        "    data2 = load_data('gm_2021.npz') # datas (2021)\n",
        "    # YOUR CODE HERE\n",
        "    return data1['qnts'].sum()\n",
        "    return data2['qnts'].sum()\n",
        "    raise NotImplementedError()"
      ],
      "id": "5397fd9a",
      "execution_count": null,
      "outputs": []
    },
    {
      "cell_type": "markdown",
      "metadata": {
        "id": "7250c66f"
      },
      "source": [
        "Check your function in the cell below. (Note: The function is checked by various hidden tests, our advice, do not try to cheat)"
      ],
      "id": "7250c66f"
    },
    {
      "cell_type": "code",
      "metadata": {
        "deletable": false,
        "editable": false,
        "nbgrader": {
          "cell_type": "code",
          "checksum": "d80d660f06c7f2146c209825b2b09fd1",
          "grade": true,
          "grade_id": "correct_total_qnts",
          "locked": true,
          "points": 2,
          "schema_version": 3,
          "solution": false,
          "task": false
        },
        "id": "22a8a14f"
      },
      "source": [
        "\"\"\"Check the function\"\"\"\n",
        "total = total_qnts() # Total cars produced in 2020 and 2021"
      ],
      "id": "22a8a14f",
      "execution_count": null,
      "outputs": []
    },
    {
      "cell_type": "markdown",
      "metadata": {
        "id": "b5a354a2"
      },
      "source": [
        "### Task (3): The numbers of produced cars. (3-points)\n",
        "Task: Imagine, your employer only asked you to separate all the data on how many Damas, Nexia, Cobalt, and Gentra car models were produced in 2020 and 2021. You need to create a function that performs this function.\n",
        "\n",
        "Help: Refer to the Boolean indexing topic.\n",
        "\n",
        "The result is: (array ([30889, ..... 30368]), array ([33682 ..... 26266]))"
      ],
      "id": "b5a354a2"
    },
    {
      "cell_type": "code",
      "metadata": {
        "deletable": false,
        "nbgrader": {
          "cell_type": "code",
          "checksum": "5d0d5621949e328510dcedaacb7bc3a5",
          "grade": false,
          "grade_id": "sel_models",
          "locked": false,
          "schema_version": 3,
          "solution": true,
          "task": false
        },
        "id": "6c736719"
      },
      "source": [
        "def sel_models():\n",
        "    \"\"\"Faqatgina Damas, Nexia, Cobalt, va Gentra rusumli avtomabillarni 2020 va 2021 yillarda qancha ishlab chiqarilganini \n",
        "    barcha ma'lumotlardan ajratib olish\"\"\"\n",
        "    data1 = load_data('gm_2020.npz') # datas (2020)\n",
        "    data2 = load_data('gm_2021.npz') # datas (2021)\n",
        "    # YOUR CODE HERE\n",
        "    arr=np.array(['Damas','Nexia','Cobalt','Gentra']) # Created a new array that contains required data. \n",
        "    arr_bool1=np.in1d(data1['models'],arr) # Logical pointers have been created to determine is there are need data of 'arr' array within the 'models' array of data1.\n",
        "    arr_bool2=np.in1d(data2['models'],arr) # Logical pointers have been created to determine is there are need data of 'arr' array within the 'models' array of data2.\n",
        "    return data1['qnts'][arr_bool1] # the data (auto numbers) in the data1 corresponding to the logical parameters were extracted and returned as data\n",
        "    return data2['qnts'][arr_bool2] # the data (auto numbers) in the data2 corresponding to the logical parameters were extracted and returned as data\n",
        "    raise NotImplementedError()"
      ],
      "id": "6c736719",
      "execution_count": null,
      "outputs": []
    },
    {
      "cell_type": "markdown",
      "metadata": {
        "id": "b97b63c3"
      },
      "source": [
        "Check your function in the cell below. (Note: The function is checked by various hidden tests, our advice, do not try to cheat)"
      ],
      "id": "b97b63c3"
    },
    {
      "cell_type": "code",
      "metadata": {
        "deletable": false,
        "editable": false,
        "nbgrader": {
          "cell_type": "code",
          "checksum": "26e42e7c8f4006db1c131d3c35fcb7da",
          "grade": true,
          "grade_id": "corr_sel_models",
          "locked": true,
          "points": 3,
          "schema_version": 3,
          "solution": false,
          "task": false
        },
        "id": "6f957f4a"
      },
      "source": [
        "\"\"\"Check the function\"\"\"\n",
        "sel_cars = sel_models() # Damas, Nexia, Cobalt, and Gentra models produced in 2020 and 2021"
      ],
      "id": "6f957f4a",
      "execution_count": null,
      "outputs": []
    },
    {
      "cell_type": "markdown",
      "metadata": {
        "id": "9f6d1f2f"
      },
      "source": [
        "### Task (4): What percentage of the total number of cars produced is the production numbers of some cars. (3-points)\n",
        "Above we have only extracted from all the data on how much Damas, Nexia, Cobalt, and Gentra car models produced in 2020 and 2021.\n",
        "\n",
        "Task: Now let's calculate what percentage of these cars are produced. Create a function that performs this function.\n",
        "\n",
        "Help: In Task (2) we calculated the total number of cars, and in Task (3) we calculated the number of some cars. Use this information.\n",
        "\n",
        "Calculation formula: $$\\frac{Number\\;of\\;car}{Total\\; number\\; of \\;cars}*100% $$\n",
        " \n",
        " \n",
        "Result: (array ([18.30871544, ..... 17.99990516]), array ([27.00306252, ..... 21.0576106]))\n",
        "\n",
        "That is, the Damas car will account for 18.3% of total production in 2020 and 27% in 2021, and so on.\n",
        " "
      ],
      "id": "9f6d1f2f"
    },
    {
      "cell_type": "code",
      "metadata": {
        "deletable": false,
        "nbgrader": {
          "cell_type": "code",
          "checksum": "0991cfad612a48d6ecf9700169aa661b",
          "grade": false,
          "grade_id": "ratio",
          "locked": false,
          "schema_version": 3,
          "solution": true,
          "task": false
        },
        "id": "0b198bf4"
      },
      "source": [
        "def ratio_sel_models():\n",
        "    \"\"\"The production volume of some automobiles is a function of calculating what percentage of the total volume of automobiles produced\"\"\"\n",
        "    # YOUR CODE HERE\n",
        "    arr=np.array(['Damas','Nexia','Cobalt','Gentra']) # a new array of required data has been created\n",
        "    arr_bool1=np.in1d(data1['models'],arr) # Logical pointers have been created to determine is there are need data of 'arr' array within the 'models' array of data1.\n",
        "    arr_bool2=np.in1d(data2['models'],arr) # Logical pointers have been created to determine is there are need data of 'arr' array within the 'models' array of data2.\n",
        "    return (data1['qnts'][arr_bool1])/(data1['qnts'].sum())*100\n",
        "    return (data2['qnts'][arr_bool2])/(data2['qnts'].sum())*100\n",
        "    raise NotImplementedError()"
      ],
      "id": "0b198bf4",
      "execution_count": null,
      "outputs": []
    },
    {
      "cell_type": "markdown",
      "metadata": {
        "id": "0904f1eb"
      },
      "source": [
        "Check your function in the cell below. (Note: The function is checked by various hidden tests, our advice, do not try to cheat)"
      ],
      "id": "0904f1eb"
    },
    {
      "cell_type": "code",
      "metadata": {
        "deletable": false,
        "editable": false,
        "nbgrader": {
          "cell_type": "code",
          "checksum": "d23a0fb1004da9ceb724db5e8fb4afd8",
          "grade": true,
          "grade_id": "ratio_correct",
          "locked": true,
          "points": 3,
          "schema_version": 3,
          "solution": false,
          "task": false
        },
        "id": "5b23d1f0"
      },
      "source": [
        "\"\"\"Check the function\"\"\"\n",
        "ratio_sel_cars = ratio_sel_models() # Percentage of some cars produced in 2020 and 2021"
      ],
      "id": "5b23d1f0",
      "execution_count": null,
      "outputs": []
    }
  ]
}