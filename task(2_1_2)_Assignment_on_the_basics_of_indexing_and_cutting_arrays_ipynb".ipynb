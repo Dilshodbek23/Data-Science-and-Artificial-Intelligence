{
  "nbformat": 4,
  "nbformat_minor": 5,
  "metadata": {
    "kernelspec": {
      "display_name": "Python 3 (ipykernel)",
      "language": "python",
      "name": "python3"
    },
    "language_info": {
      "codemirror_mode": {
        "name": "ipython",
        "version": 3
      },
      "file_extension": ".py",
      "mimetype": "text/x-python",
      "name": "python",
      "nbconvert_exporter": "python",
      "pygments_lexer": "ipython3",
      "version": "3.9.7"
    },
    "colab": {
      "name": "task(2_1_2)_Assignment on the basics of indexing and cutting arrays.ipynb\"",
      "provenance": [],
      "include_colab_link": true
    }
  },
  "cells": [
    {
      "cell_type": "markdown",
      "metadata": {
        "id": "view-in-github",
        "colab_type": "text"
      },
      "source": [
        "<a href=\"https://colab.research.google.com/github/Dilshodbek23/Data-Science-and-Artificial-Intelligence/blob/main/task(2_1_2)_Assignment_on_the_basics_of_indexing_and_cutting_arrays_ipynb%22.ipynb\" target=\"_parent\"><img src=\"https://colab.research.google.com/assets/colab-badge.svg\" alt=\"Open In Colab\"/></a>"
      ]
    },
    {
      "cell_type": "markdown",
      "metadata": {
        "id": "0NOaKFATJwRz"
      },
      "source": [
        ""
      ],
      "id": "0NOaKFATJwRz"
    },
    {
      "cell_type": "markdown",
      "metadata": {
        "id": "6bc9f403"
      },
      "source": [
        "---\n",
        "# Data analysis\n",
        "2.1.1. Processing N-Dimensional Arrays\n",
        "\n",
        "Task-2"
      ],
      "id": "6bc9f403"
    },
    {
      "cell_type": "code",
      "metadata": {
        "id": "cd543d6c"
      },
      "source": [
        "# calling a NumPy library\n",
        "import numpy as np"
      ],
      "id": "cd543d6c",
      "execution_count": null,
      "outputs": []
    },
    {
      "cell_type": "markdown",
      "metadata": {
        "id": "b551a45c"
      },
      "source": [
        "### Task (1): Create a 2D Array (1 point)\n",
        "Requerements: create an array of size (3, 3) with elements from 0 to 9 (9 itself is not included in the array element) and step 1.\n",
        "\n",
        "Help: use `arange` to makes the job easier\n"
      ],
      "id": "b551a45c"
    },
    {
      "cell_type": "code",
      "metadata": {
        "deletable": false,
        "nbgrader": {
          "cell_type": "code",
          "checksum": "9acc974e84c2aee92d94d6e833bf1305",
          "grade": false,
          "grade_id": "3x3array",
          "locked": false,
          "schema_version": 3,
          "solution": true,
          "task": false
        },
        "id": "62ce423b"
      },
      "source": [
        "def nd_array():\n",
        "    \"\"\"Array of size 0 to 9 (9 is not an array element) and step equal to 1 (3, 3) \"\"\"\n",
        "    # YOUR CODE HERE\n",
        "    arr = np.arange(9).reshape(3,3)\n",
        "    return arr\n",
        "    raise NotImplementedError()"
      ],
      "id": "62ce423b",
      "execution_count": null,
      "outputs": []
    },
    {
      "cell_type": "markdown",
      "metadata": {
        "id": "dcb65b5e"
      },
      "source": [
        "Your function is tested by the number of elements in the array, the shape of the array `shape`, and whether the elements are multiple arrays in the range 0 ~ 10. There are also a number of secret tests (our advice is not to try to cheat)."
      ],
      "id": "dcb65b5e"
    },
    {
      "cell_type": "code",
      "metadata": {
        "deletable": false,
        "editable": false,
        "nbgrader": {
          "cell_type": "code",
          "checksum": "82321c32305744c0210aeee8b64eea26",
          "grade": true,
          "grade_id": "correct_3x3array",
          "locked": true,
          "points": 1,
          "schema_version": 3,
          "solution": false,
          "task": false
        },
        "id": "fabe3025"
      },
      "source": [
        "\"\"\"Сheck the function\"\"\"\n",
        "arr = nd_array() # massiv\n",
        "assert arr.size == 9  # elementlar soni\n",
        "assert type(arr) == np.ndarray # #numpy array "
      ],
      "id": "fabe3025",
      "execution_count": null,
      "outputs": []
    },
    {
      "cell_type": "markdown",
      "metadata": {
        "id": "ea0fa389"
      },
      "source": [
        "###  Task (2): Cut elements from 2D arrays using an index (3 points)\n",
        "Task: Create a function to cut out a portion of the array created above with elements 6 and 7.\n",
        "\n",
        "Help: Find indexes 6 and 7 and shorten them using these indexes. Result: should be in the form of an array ([6, 7])."
      ],
      "id": "ea0fa389"
    },
    {
      "cell_type": "code",
      "metadata": {
        "deletable": false,
        "nbgrader": {
          "cell_type": "code",
          "checksum": "638aa8ddfe4153e2f3435b871acc40ca",
          "grade": false,
          "grade_id": "2dsliced_array",
          "locked": false,
          "schema_version": 3,
          "solution": true,
          "task": false
        },
        "id": "2bb7eaf7"
      },
      "source": [
        "def sliced_array_2d():\n",
        "    \"\"\"Function to trim part of an array with elements 6 and 7 \"\"\"\n",
        "    # YOUR CODE HERE\n",
        "    sliced_arr = arr[2,:2]\n",
        "    return sliced_arr\n",
        "    raise NotImplementedError()"
      ],
      "id": "2bb7eaf7",
      "execution_count": null,
      "outputs": []
    },
    {
      "cell_type": "markdown",
      "metadata": {
        "id": "41d30fda"
      },
      "source": [
        "Your function is checked by the number of elements in the array, the shape of the array `shape`, and whether the elements are a numpy array. There are also a number of secret tests (our advice is not to try to cheat)."
      ],
      "id": "41d30fda"
    },
    {
      "cell_type": "code",
      "metadata": {
        "deletable": false,
        "editable": false,
        "nbgrader": {
          "cell_type": "code",
          "checksum": "43d706fef12434ce13eb70db193fb444",
          "grade": true,
          "grade_id": "correct_2dsliced_array",
          "locked": true,
          "points": 3,
          "schema_version": 3,
          "solution": false,
          "task": false
        },
        "id": "efda4be9"
      },
      "source": [
        "\"\"\"Сheck the function\"\"\"\n",
        "sl_arr_2d = sliced_array_2d() # truncated array\n",
        "assert sl_arr_2d.size == 2  # number of elements\n",
        "assert type(sl_arr_2d) == np.ndarray # #numpy array "
      ],
      "id": "efda4be9",
      "execution_count": null,
      "outputs": []
    },
    {
      "cell_type": "markdown",
      "metadata": {
        "id": "553a4a91"
      },
      "source": [
        "###  Task (3): Cut elements from a 3D array using the index (4 points)\n",
        "Task: Create a 3D array from the list below, and cut out elements 12, 13, 15, and 16.\n",
        "\n",
        "                  [[[ 0,  1,  2],\n",
        "                    [ 3,  4,  5],\n",
        "                    [ 6,  7,  8]],\n",
        "\n",
        "                   [[ 9, 10, 11],\n",
        "                    [12, 13, 14],\n",
        "                    [15, 16, 17]],\n",
        "\n",
        "                   [[18, 19, 20],\n",
        "                    [21, 22, 23],\n",
        "                    [24, 25, 26]]]\n",
        "\n",
        "Help: First bring the array to a two-dimensional array, then perform the cut.\n",
        "\n",
        "The result should look like this: \n",
        "\n",
        "             array([[12, 13],\n",
        "                    [15, 16]])"
      ],
      "id": "553a4a91"
    },
    {
      "cell_type": "markdown",
      "metadata": {
        "id": "3fee2da4"
      },
      "source": [
        "Your function is checked by the number of elements in the array, the shape of the array `shape`, and whether the elements are numpy arrays. There are also a number of secret tests (our advice is not to try to cheat)."
      ],
      "id": "3fee2da4"
    },
    {
      "cell_type": "code",
      "metadata": {
        "deletable": false,
        "nbgrader": {
          "cell_type": "code",
          "checksum": "738e8b356eaa8e68563ca55106331cb6",
          "grade": false,
          "grade_id": "3dsliced_arr",
          "locked": false,
          "schema_version": 3,
          "solution": true,
          "task": false
        },
        "id": "d526e404"
      },
      "source": [
        "def sliced_array_3d():\n",
        "    \"\"\"The function of creating a 3D array from the list above, as well as cutting elements 12, 13, 15, and 16\"\"\"\n",
        "    # YOUR CODE HERE\n",
        "    arr = np.arange(27).reshape(3,3,3)\n",
        "    arr_2 = arr[1][1:,:2]\n",
        "    return arr_2\n",
        "    raise NotImplementedError()"
      ],
      "id": "d526e404",
      "execution_count": null,
      "outputs": []
    },
    {
      "cell_type": "code",
      "metadata": {
        "deletable": false,
        "editable": false,
        "nbgrader": {
          "cell_type": "code",
          "checksum": "da9af4b5cc3db8220fd885e197c75a74",
          "grade": true,
          "grade_id": "correct_3dsliced_arr",
          "locked": true,
          "points": 4,
          "schema_version": 3,
          "solution": false,
          "task": false
        },
        "id": "85111e6a"
      },
      "source": [
        "\"\"\"Сheck the function\"\"\"\n",
        "sl_arr_3d = sliced_array_3d() # truncated array\n",
        "assert sl_arr_3d.size == 4  # number of elements\n",
        "assert type(sl_arr_3d) == np.ndarray # #numpy array "
      ],
      "id": "85111e6a",
      "execution_count": null,
      "outputs": []
    },
    {
      "cell_type": "markdown",
      "metadata": {
        "id": "a988bb47"
      },
      "source": [
        "###  Task (4): Cut elements from 2-dimensional arrays using the Boolean index (2 points)\n",
        "Case: We have ** listed people and their ** information ** in the form\n",
        "        \n",
        "        ['Hasan', 'Husan', 'Javohir', 'Elyor', 'Hasan', 'Javohir', 'Elyor']\n",
        "\n",
        "       \n",
        "      [[5, 6, 1, 1],\n",
        "       [9, 1, 1, 1],\n",
        "       [7, 7, 4, 2],\n",
        "       [1, 5, 1, 9],\n",
        "       [9, 9, 4, 5],\n",
        "       [7, 5, 9, 6],\n",
        "       [5, 3, 7, 4]]\n",
        " \n",
        "\n",
        "\n",
        "From this data, create a function to cut the data for the names ** Javohir ** and ** Elyor ** using Boolean indexing.\n",
        "** Help: ** Refer to the Boolean Indexing Video Tutorial. ** Result: ** The result is in the form of a dimensional array (4, 4), and the first two rows are as follows\n",
        "\n",
        "    array([[7, 7, 4, 2],\n",
        "           [1, 5, 1, 9],\n",
        "           ...\n",
        "           ...        ]])"
      ],
      "id": "a988bb47"
    },
    {
      "cell_type": "code",
      "metadata": {
        "deletable": false,
        "nbgrader": {
          "cell_type": "code",
          "checksum": "8dc4cf0c4811ac958a384022d55ab4cc",
          "grade": false,
          "grade_id": "boolean_idx",
          "locked": false,
          "schema_version": 3,
          "solution": true,
          "task": false
        },
        "id": "b3c06bba"
      },
      "source": [
        "def boolean_slicing():\n",
        "    \"\"\"Cutting data using boolean indexing \"\"\"\n",
        "    # YOUR CODE HERE\n",
        "    name = np.array(['Hasan', 'Husan', 'Javohir', 'Elyor', 'Hasan', 'Javohir', 'Elyor'])\n",
        "    data = np.array([[5, 6, 1, 1],\n",
        "   [9, 1, 1, 1],\n",
        "   [7, 7, 4, 2],\n",
        "   [1, 5, 1, 9],\n",
        "   [9, 9, 4, 5],\n",
        "   [7, 5, 9, 6],\n",
        "   [5, 3, 7, 4]])\n",
        "    mask = (name=='Javohir') | (name=='Elyor')\n",
        "    return(data[mask])\n",
        "    raise NotImplementedError()"
      ],
      "id": "b3c06bba",
      "execution_count": null,
      "outputs": []
    },
    {
      "cell_type": "markdown",
      "metadata": {
        "id": "7407b59f"
      },
      "source": [
        "Your function is checked by the number of elements in the array, the shape of the array `shape`, and whether the elements are numpy arrays. There are also a number of secret tests (our advice is not to try to cheat)."
      ],
      "id": "7407b59f"
    },
    {
      "cell_type": "code",
      "metadata": {
        "deletable": false,
        "editable": false,
        "nbgrader": {
          "cell_type": "code",
          "checksum": "05fdc1eee5b76c353288e9f5588b5349",
          "grade": true,
          "grade_id": "correct_boolean_idx",
          "locked": true,
          "points": 2,
          "schema_version": 3,
          "solution": false,
          "task": false
        },
        "id": "3936329b"
      },
      "source": [
        "\n",
        "\"\"\"Сheck the function\"\"\"\n",
        "bool_idx = boolean_slicing() # truncated array\n",
        "assert bool_idx.size == 16  # number of elements\n",
        "assert type(bool_idx) == np.ndarray # #numpy array "
      ],
      "id": "3936329b",
      "execution_count": null,
      "outputs": []
    },
    {
      "cell_type": "code",
      "metadata": {
        "id": "tBmklCyfIR3b"
      },
      "source": [
        ""
      ],
      "id": "tBmklCyfIR3b",
      "execution_count": null,
      "outputs": []
    }
  ]
}